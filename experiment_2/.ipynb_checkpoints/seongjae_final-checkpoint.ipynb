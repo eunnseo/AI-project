{
 "cells": [
  {
   "cell_type": "code",
   "execution_count": 5,
   "id": "570ea629",
   "metadata": {},
   "outputs": [],
   "source": [
    "#DecisionTreeClassifier, KNeighborsClassifier, RandomForestClassifier, LogisticRegression, GradientBoostingClassifier\n",
    "#5개를 같이 학습해서 predict_proba로 각각 학습한 값의 평균이 0.5가 넘을 때 1(투표 한걸로)로 보도록 학습시켰지만\n",
    "#실수로 해당 파일의 데이터를 experiment파일에 데이터를 합치고 힙친 파일의 데이터로 덮어 씌어 데이터가 남아 있지 않음."
   ]
  },
  {
   "cell_type": "code",
   "execution_count": 11,
   "id": "a32bd381",
   "metadata": {},
   "outputs": [],
   "source": [
    "#무응답도 데이터 로서 가치가 있다고 생각하여 시간 데이터 왜에는 전처리 하지 않았었음.\n",
    "#시간 데이터 전처리 값 할 시 500단위로 구분하거나 임의로 내가 직접 값을 구분하여(ex: 500, 1000, 3000, 5000, 8000...) \n",
    "#전처리 하였을 때는 학습이 정상 적으로 되지 않는 다고 생각했다.\n",
    "#(이 당시에는 train, test파일 만을 그대로 이용해 정확도와 같은 값들을 정상적으로 구할 수 없었기에 이 판단이 맞는지는 확신이 없다)\n",
    "#학습 또한 train 데이터의 index를 test와 동일 하게 하여 학습 했었다."
   ]
  },
  {
   "cell_type": "code",
   "execution_count": 13,
   "id": "e166d434",
   "metadata": {},
   "outputs": [],
   "source": [
    "#K_fold 기반의 스태킹 앙상블도 해보았지만 해당 방법으로는 y_test 값이 없어 \n",
    "#더 이상 진행이 불가능 학습이 불가능 하다 생각하여 회의 전까지 이 이상 진행하지 못했다."
   ]
  },
  {
   "cell_type": "code",
   "execution_count": 14,
   "id": "e22e6dd4",
   "metadata": {},
   "outputs": [],
   "source": [
    "#위의 방법으로 진행 했기에 오류가 발생 하였지만 predict_proba로 예측한 값의 임계값을 수차례 수정하며 train의 voted값의 1과 0의 비율과\n",
    "#예측된 값의 1과 0의 비율 맞추려고 했었다.\n",
    "#GridSearchCV를 이용해 최적의 파라미터를 구하려 했으로 위와 같은 이유로(y_test값이 없음) \n",
    "#이는 정상 적인 값이 아니라고 생학하여 진행을 중지 하였다."
   ]
  },
  {
   "cell_type": "code",
   "execution_count": 15,
   "id": "5bd0835c",
   "metadata": {},
   "outputs": [],
   "source": [
    "#get_clf_eval함수도 작성 하였으로 마찬가지의 이유로 진행을 하지 못했음."
   ]
  },
  {
   "cell_type": "markdown",
   "id": "bearing-creator",
   "metadata": {},
   "source": [
    "# 인공지능적사고와문제해결 프로젝트2 8조"
   ]
  },
  {
   "cell_type": "code",
   "execution_count": 1,
   "id": "breeding-purse",
   "metadata": {},
   "outputs": [],
   "source": [
    "import numpy as np\n",
    "import pandas as pd\n",
    "import matplotlib.pyplot as plt\n",
    "import matplotlib\n",
    "import lightgbm\n",
    "\n",
    "from sklearn.preprocessing import LabelEncoder, OneHotEncoder\n",
    "from sklearn.metrics import confusion_matrix, accuracy_score, precision_score, recall_score, f1_score\n",
    "from sklearn.metrics import roc_auc_score\n",
    "\n",
    "from sklearn.model_selection import train_test_split\n",
    "from xgboost import XGBClassifier\n",
    "from sklearn.preprocessing import StandardScaler\n",
    "from imblearn.over_sampling import RandomOverSampler, SMOTE\n",
    "from imblearn.under_sampling import RandomUnderSampler\n"
   ]
  },
  {
   "cell_type": "code",
   "execution_count": 2,
   "id": "helpful-latvia",
   "metadata": {},
   "outputs": [],
   "source": [
    "# set options\n",
    "pd.set_option('display.max_rows', None)\n",
    "pd.set_option('display.max_columns', None)"
   ]
  },
  {
   "cell_type": "code",
   "execution_count": null,
   "id": "1b31b019",
   "metadata": {},
   "outputs": [],
   "source": []
  },
  {
   "cell_type": "code",
   "execution_count": 3,
   "id": "nearby-employer",
   "metadata": {},
   "outputs": [],
   "source": [
    "# 예측한 값으로 성능을 평가하는 함수\n",
    "def get_clf_eval(y_test, pred=None, pred_proba=None):\n",
    "    confusion = confusion_matrix(y_test, pred) # 오차 행렬\n",
    "    accuracy = accuracy_score(y_test, pred) # 정확도\n",
    "    precision = precision_score(y_test, pred) # 정밀도\n",
    "    recall = recall_score(y_test, pred) # 재현율\n",
    "    f1 = f1_score(y_test, pred) # F1\n",
    "    roc_auc = roc_auc_score(y_test, pred_proba) # ROC-AUC\n",
    "    print('오차 행렬')\n",
    "    print(confusion)\n",
    "    print('정확도: {0:.4f}, 정밀도: {1:.4f}, 재현율: {2:.4f}, F1: {3:.4f}, AUC:{4:.4f}'.format(accuracy, precision, recall, f1, roc_auc))"
   ]
  },
  {
   "cell_type": "markdown",
   "id": "viral-taxation",
   "metadata": {},
   "source": [
    "## 데이터 전처리"
   ]
  },
  {
   "cell_type": "code",
   "execution_count": 4,
   "id": "polyphonic-complex",
   "metadata": {
    "scrolled": true
   },
   "outputs": [
    {
     "name": "stdout",
     "output_type": "stream",
     "text": [
      "dataset shape:  (36425, 78)\n",
      "dataset shape:  (9107, 77)\n"
     ]
    }
   ],
   "source": [
    "vote_df = pd.read_csv(\"C:\\\\Users\\kimsj\\\\OneDrive\\\\바탕 화면\\\\대학교\\\\git\\\\AI-project\\\\data\\\\train.csv\", encoding=\"utf-8\")\n",
    "test_df = pd.read_csv(\"C:\\\\Users\\kimsj\\\\OneDrive\\\\바탕 화면\\\\대학교\\\\git\\\\AI-project\\\\data\\\\test.csv\", encoding=\"utf-8\")\n",
    "print(\"dataset shape: \", vote_df.shape)\n",
    "print(\"dataset shape: \", test_df.shape)\n",
    "\n",
    "# 인덱스 제거\n",
    "vote_df.drop(\"index\", axis=1, inplace=True)\n",
    "test_index = test_df[\"index\"]\n",
    "test_df.drop(\"index\", axis=1, inplace=True)"
   ]
  },
  {
   "cell_type": "code",
   "execution_count": 5,
   "id": "crude-validity",
   "metadata": {},
   "outputs": [],
   "source": [
    "# 0값을 검사할 피처명 리스트 객체 설정\n",
    "# zero_features = ['education', 'engnat', 'hand', 'urban']\n",
    "# education 비율 맞추기?\n",
    "zero_features = []\n",
    "\n",
    "# tp 추가\n",
    "for i in range(1, 11):\n",
    "    s = 'tp' + chr(48+(i//10)) + chr(48+(i%10))\n",
    "    zero_features.append(s)\n",
    "    \n",
    "# zero_features 리스트 내부에 저장된 개별 피처들에 대해 0값을 평균 값으로 대체\n",
    "vote_df[zero_features] = vote_df[zero_features].replace(0, vote_df[zero_features].mean())\n",
    "test_df[zero_features] = test_df[zero_features].replace(0, test_df[zero_features].mean())"
   ]
  },
  {
   "cell_type": "markdown",
   "id": "pressed-drink",
   "metadata": {},
   "source": [
    "### 인코딩"
   ]
  },
  {
   "cell_type": "markdown",
   "id": "85d0102a",
   "metadata": {},
   "source": [
    "레이블 인코딩 vote_df와 test_df의 age_group 컬럼을 레이블 인코딩 했다."
   ]
  },
  {
   "cell_type": "code",
   "execution_count": 6,
   "id": "unlimited-trade",
   "metadata": {},
   "outputs": [],
   "source": [
    "# 레이블 인코딩\n",
    "encoder = LabelEncoder()\n",
    "encoder_test = LabelEncoder()\n",
    "\n",
    "encoder.fit(vote_df['age_group'])\n",
    "encoder_test.fit(test_df['age_group'])\n",
    "labels = encoder.transform(vote_df['age_group'])\n",
    "labels_test = encoder_test.transform(test_df['age_group'])\n",
    "\n",
    "vote_df['age_group'] = labels\n",
    "test_df['age_group'] = labels_test\n",
    "\n",
    "def get_categoty_age(age_num):\n",
    "    num = age_num;\n",
    "    if age_num == 0: num =7\n",
    "\n",
    "    return num\n",
    "\n",
    "vote_df[\"age_group\"] = vote_df[\"age_group\"].apply(lambda x : get_categoty_age(x))\n",
    "test_df[\"age_group\"] = test_df[\"age_group\"].apply(lambda x : get_categoty_age(x))\n",
    "\n",
    "# 원핫 인코딩\n",
    "def dummy_data(data, columns) :\n",
    "    for column in columns:\n",
    "        data = pd.concat([data, pd.get_dummies(data[column], prefix = column)], axis=1)\n",
    "        data = data.drop(column, axis=1)\n",
    "    return data\n",
    "\n",
    "dummy_columns = ['engnat', 'gender','hand', 'married', 'race', 'religion', 'urban']\n",
    "# wr 추가\n",
    "for i in range(1, 14):\n",
    "    s = 'wr_' + chr(48+(i//10)) + chr(48+(i%10))\n",
    "    dummy_columns.append(s)\n",
    "# wf 추가\n",
    "for i in range(1, 4):\n",
    "    s = 'wf_' + chr(48+(i//10)) + chr(48+(i%10))\n",
    "    dummy_columns.append(s)\n",
    "# print(dummy_columns)\n",
    "\n",
    "vote_df = dummy_data(vote_df, dummy_columns)\n",
    "test_df = dummy_data(test_df, dummy_columns)\n"
   ]
  },
  {
   "cell_type": "markdown",
   "id": "forced-greensboro",
   "metadata": {},
   "source": [
    "### 이상값 처리"
   ]
  },
  {
   "cell_type": "code",
   "execution_count": 16,
   "id": "8ef03a96",
   "metadata": {},
   "outputs": [],
   "source": [
    "#시간 데이터를 1000 단위로 구분해 전처리 하였고, \n",
    "#9를 넘는 값은 이상치 데이터로 보고 제거 해주었다. \n",
    "#9를 넘는 데이터가 아니라 7,8,10,11,12,13 각각을 이상치로 보고 제거 했을 경우에는 \n",
    "#9를 넘는 값을 이상치 데이터로 본것보다 F1값이 낮게 나왔다.\n",
    "#시간 데이터을 value_counts() 하여 값들의 분포도를 확인 했을 때는 8 이상인 값을 제거하는 것이 맞다고 생각 했었다. "
   ]
  },
  {
   "cell_type": "code",
   "execution_count": 7,
   "id": "nonprofit-martin",
   "metadata": {},
   "outputs": [],
   "source": [
    "# 시간 데이터 전처리\n",
    "\n",
    "#Q_E 시간\n",
    "Q_E = []\n",
    "for i in range(97, 117):\n",
    "    a = 'Q' + chr(i) + 'E'\n",
    "    Q_E.append(a)\n",
    "\n",
    "def get_categoty_time(Q_time):\n",
    "    cat = 0\n",
    "    if Q_time <= 1000 : cat = 1\n",
    "    elif Q_time <= 2000 : cat = 2\n",
    "    elif Q_time <= 3000 : cat = 3\n",
    "    elif Q_time <= 4000 : cat = 4\n",
    "    elif Q_time <= 5000 : cat = 5\n",
    "    elif Q_time <= 6000 : cat = 6\n",
    "    elif Q_time <= 7000 : cat = 7\n",
    "    elif Q_time <= 8000 : cat = 8\n",
    "    elif Q_time <= 9000 : cat = 9\n",
    "    elif Q_time <=10000 : cat = 10\n",
    "    elif Q_time <=15000 : cat = 11\n",
    "    elif Q_time <=20000 : cat = 12\n",
    "    else : cat = 13\n",
    "\n",
    "    return cat\n",
    "\n",
    "for Q_time in Q_E:\n",
    "    vote_df[Q_time] = vote_df[Q_time].apply(lambda x : get_categoty_time(x))\n",
    "    test_df[Q_time] = test_df[Q_time].apply(lambda x : get_categoty_time(x))\n"
   ]
  },
  {
   "cell_type": "code",
   "execution_count": 8,
   "id": "db5440b7",
   "metadata": {},
   "outputs": [],
   "source": [
    "# 시간 이상치 데이터 제거\n",
    "def get_outlier2(df=None, column=None):\n",
    "    fraud = df[column]\n",
    "    \n",
    "    outlier_index = fraud[fraud > 9].index    \n",
    "    return outlier_index\n",
    "for Q_time in Q_E:\n",
    "    outlier_index2 = get_outlier2(df=vote_df, column=Q_time)\n",
    "    vote_df.drop(outlier_index2, axis=0, inplace=True)\n"
   ]
  },
  {
   "cell_type": "markdown",
   "id": "dietary-resistance",
   "metadata": {},
   "source": [
    "## 모델 학습"
   ]
  },
  {
   "cell_type": "code",
   "execution_count": 18,
   "id": "c60a9bd2",
   "metadata": {},
   "outputs": [],
   "source": [
    "#데이터 들을 undersampling 하거나 oversampling을 하거나 smote oversampling을 각각 해보며 여러 테스트를 진행해 보았다."
   ]
  },
  {
   "cell_type": "code",
   "execution_count": 9,
   "id": "ruled-reach",
   "metadata": {
    "scrolled": true
   },
   "outputs": [
    {
     "name": "stdout",
     "output_type": "stream",
     "text": [
      "학습 세트 Shape:(25362, 121), 테스트 세트 Shape:(6341, 121)\n",
      " 학습 세트 레이블 값 분포 비율\n",
      "0    0.550587\n",
      "1    0.449413\n",
      "Name: voted, dtype: float64\n",
      "\n",
      " 테스트 세트 레이블 값 분포 비율\n",
      "0    0.529885\n",
      "1    0.470115\n",
      "Name: voted, dtype: float64\n",
      "\n",
      "[0]\tvalidation_0-logloss:0.67448\n",
      "[1]\tvalidation_0-logloss:0.65930\n"
     ]
    },
    {
     "name": "stderr",
     "output_type": "stream",
     "text": [
      "C:\\Users\\kimsj\\anaconda3\\lib\\site-packages\\xgboost\\sklearn.py:1146: UserWarning: The use of label encoder in XGBClassifier is deprecated and will be removed in a future release. To remove this warning, do the following: 1) Pass option use_label_encoder=False when constructing XGBClassifier object; and 2) Encode your labels (y) as integers starting with 0, i.e. 0, 1, 2, ..., [num_class - 1].\n",
      "  warnings.warn(label_encoder_deprecation_msg, UserWarning)\n"
     ]
    },
    {
     "name": "stdout",
     "output_type": "stream",
     "text": [
      "[2]\tvalidation_0-logloss:0.64708\n",
      "[3]\tvalidation_0-logloss:0.63647\n",
      "[4]\tvalidation_0-logloss:0.62782\n",
      "[5]\tvalidation_0-logloss:0.62051\n",
      "[6]\tvalidation_0-logloss:0.61430\n",
      "[7]\tvalidation_0-logloss:0.60911\n",
      "[8]\tvalidation_0-logloss:0.60487\n",
      "[9]\tvalidation_0-logloss:0.60081\n",
      "[10]\tvalidation_0-logloss:0.59745\n",
      "[11]\tvalidation_0-logloss:0.59469\n",
      "[12]\tvalidation_0-logloss:0.59235\n",
      "[13]\tvalidation_0-logloss:0.59020\n",
      "[14]\tvalidation_0-logloss:0.58834\n",
      "[15]\tvalidation_0-logloss:0.58665\n",
      "[16]\tvalidation_0-logloss:0.58485\n",
      "[17]\tvalidation_0-logloss:0.58378\n",
      "[18]\tvalidation_0-logloss:0.58241\n",
      "[19]\tvalidation_0-logloss:0.58118\n",
      "[20]\tvalidation_0-logloss:0.58018\n",
      "[21]\tvalidation_0-logloss:0.57922\n",
      "[22]\tvalidation_0-logloss:0.57860\n",
      "[23]\tvalidation_0-logloss:0.57781\n",
      "[24]\tvalidation_0-logloss:0.57741\n",
      "[25]\tvalidation_0-logloss:0.57685\n",
      "[26]\tvalidation_0-logloss:0.57636\n",
      "[27]\tvalidation_0-logloss:0.57610\n",
      "[28]\tvalidation_0-logloss:0.57570\n",
      "[29]\tvalidation_0-logloss:0.57532\n",
      "[30]\tvalidation_0-logloss:0.57519\n",
      "[31]\tvalidation_0-logloss:0.57493\n",
      "[32]\tvalidation_0-logloss:0.57483\n",
      "[33]\tvalidation_0-logloss:0.57438\n",
      "[34]\tvalidation_0-logloss:0.57429\n",
      "[35]\tvalidation_0-logloss:0.57392\n",
      "[36]\tvalidation_0-logloss:0.57374\n",
      "[37]\tvalidation_0-logloss:0.57360\n",
      "[38]\tvalidation_0-logloss:0.57345\n",
      "[39]\tvalidation_0-logloss:0.57303\n",
      "[40]\tvalidation_0-logloss:0.57288\n",
      "[41]\tvalidation_0-logloss:0.57287\n",
      "[42]\tvalidation_0-logloss:0.57254\n",
      "[43]\tvalidation_0-logloss:0.57237\n",
      "[44]\tvalidation_0-logloss:0.57235\n",
      "[45]\tvalidation_0-logloss:0.57229\n",
      "[46]\tvalidation_0-logloss:0.57215\n",
      "[47]\tvalidation_0-logloss:0.57186\n",
      "[48]\tvalidation_0-logloss:0.57175\n",
      "[49]\tvalidation_0-logloss:0.57177\n",
      "[50]\tvalidation_0-logloss:0.57177\n",
      "[51]\tvalidation_0-logloss:0.57165\n",
      "[52]\tvalidation_0-logloss:0.57151\n",
      "[53]\tvalidation_0-logloss:0.57136\n",
      "[54]\tvalidation_0-logloss:0.57126\n",
      "[55]\tvalidation_0-logloss:0.57115\n",
      "[56]\tvalidation_0-logloss:0.57090\n",
      "[57]\tvalidation_0-logloss:0.57082\n",
      "[58]\tvalidation_0-logloss:0.57086\n",
      "[59]\tvalidation_0-logloss:0.57078\n",
      "[60]\tvalidation_0-logloss:0.57080\n",
      "[61]\tvalidation_0-logloss:0.57061\n",
      "[62]\tvalidation_0-logloss:0.57043\n",
      "[63]\tvalidation_0-logloss:0.57042\n",
      "[64]\tvalidation_0-logloss:0.57033\n",
      "[65]\tvalidation_0-logloss:0.57028\n",
      "[66]\tvalidation_0-logloss:0.57016\n",
      "[67]\tvalidation_0-logloss:0.57018\n",
      "[68]\tvalidation_0-logloss:0.57019\n",
      "[69]\tvalidation_0-logloss:0.57026\n",
      "[70]\tvalidation_0-logloss:0.57024\n",
      "[71]\tvalidation_0-logloss:0.57015\n",
      "[72]\tvalidation_0-logloss:0.57003\n",
      "[73]\tvalidation_0-logloss:0.57008\n",
      "[74]\tvalidation_0-logloss:0.57015\n",
      "[75]\tvalidation_0-logloss:0.57013\n",
      "[76]\tvalidation_0-logloss:0.57020\n",
      "[77]\tvalidation_0-logloss:0.57016\n",
      "[78]\tvalidation_0-logloss:0.57020\n",
      "[79]\tvalidation_0-logloss:0.57026\n",
      "[80]\tvalidation_0-logloss:0.57020\n",
      "[81]\tvalidation_0-logloss:0.57011\n",
      "[82]\tvalidation_0-logloss:0.57005\n",
      "[83]\tvalidation_0-logloss:0.57010\n",
      "[84]\tvalidation_0-logloss:0.57007\n",
      "[85]\tvalidation_0-logloss:0.57008\n",
      "[86]\tvalidation_0-logloss:0.56999\n",
      "[87]\tvalidation_0-logloss:0.57001\n",
      "[88]\tvalidation_0-logloss:0.56995\n",
      "[89]\tvalidation_0-logloss:0.56990\n",
      "[90]\tvalidation_0-logloss:0.56991\n",
      "[91]\tvalidation_0-logloss:0.56999\n",
      "[92]\tvalidation_0-logloss:0.56994\n",
      "[93]\tvalidation_0-logloss:0.56990\n",
      "[94]\tvalidation_0-logloss:0.57000\n",
      "[95]\tvalidation_0-logloss:0.56992\n",
      "[96]\tvalidation_0-logloss:0.56990\n",
      "[97]\tvalidation_0-logloss:0.56989\n",
      "[98]\tvalidation_0-logloss:0.56996\n",
      "[99]\tvalidation_0-logloss:0.57001\n",
      "[100]\tvalidation_0-logloss:0.56997\n",
      "[101]\tvalidation_0-logloss:0.57000\n",
      "[102]\tvalidation_0-logloss:0.57010\n",
      "[103]\tvalidation_0-logloss:0.57001\n",
      "[104]\tvalidation_0-logloss:0.57008\n",
      "[105]\tvalidation_0-logloss:0.57012\n",
      "[106]\tvalidation_0-logloss:0.57007\n",
      "[107]\tvalidation_0-logloss:0.56998\n",
      "[108]\tvalidation_0-logloss:0.56990\n",
      "[109]\tvalidation_0-logloss:0.57000\n",
      "[110]\tvalidation_0-logloss:0.57000\n",
      "[111]\tvalidation_0-logloss:0.57003\n",
      "[112]\tvalidation_0-logloss:0.57005\n",
      "[113]\tvalidation_0-logloss:0.57011\n",
      "[114]\tvalidation_0-logloss:0.57010\n",
      "[115]\tvalidation_0-logloss:0.57003\n",
      "[116]\tvalidation_0-logloss:0.57001\n",
      "[117]\tvalidation_0-logloss:0.57003\n",
      "[118]\tvalidation_0-logloss:0.56993\n",
      "[119]\tvalidation_0-logloss:0.56994\n",
      "[120]\tvalidation_0-logloss:0.56995\n",
      "[121]\tvalidation_0-logloss:0.56997\n",
      "[122]\tvalidation_0-logloss:0.56998\n",
      "[123]\tvalidation_0-logloss:0.56994\n",
      "[124]\tvalidation_0-logloss:0.56999\n",
      "[125]\tvalidation_0-logloss:0.57009\n",
      "[126]\tvalidation_0-logloss:0.56995\n",
      "[127]\tvalidation_0-logloss:0.56991\n",
      "[128]\tvalidation_0-logloss:0.56986\n",
      "[129]\tvalidation_0-logloss:0.56978\n",
      "[130]\tvalidation_0-logloss:0.56965\n",
      "[131]\tvalidation_0-logloss:0.56964\n",
      "[132]\tvalidation_0-logloss:0.56969\n",
      "[133]\tvalidation_0-logloss:0.56978\n",
      "[134]\tvalidation_0-logloss:0.56970\n",
      "[135]\tvalidation_0-logloss:0.56978\n",
      "[136]\tvalidation_0-logloss:0.56986\n",
      "[137]\tvalidation_0-logloss:0.56982\n",
      "[138]\tvalidation_0-logloss:0.56977\n",
      "[139]\tvalidation_0-logloss:0.56986\n",
      "[140]\tvalidation_0-logloss:0.56988\n",
      "[141]\tvalidation_0-logloss:0.56985\n",
      "[142]\tvalidation_0-logloss:0.56985\n",
      "[143]\tvalidation_0-logloss:0.56985\n",
      "[144]\tvalidation_0-logloss:0.56981\n",
      "[145]\tvalidation_0-logloss:0.56973\n",
      "[146]\tvalidation_0-logloss:0.56978\n",
      "[147]\tvalidation_0-logloss:0.56985\n",
      "[148]\tvalidation_0-logloss:0.56981\n",
      "[149]\tvalidation_0-logloss:0.56976\n",
      "[150]\tvalidation_0-logloss:0.56967\n",
      "[151]\tvalidation_0-logloss:0.56966\n",
      "[152]\tvalidation_0-logloss:0.56976\n",
      "[153]\tvalidation_0-logloss:0.56976\n",
      "[154]\tvalidation_0-logloss:0.56981\n",
      "[155]\tvalidation_0-logloss:0.56988\n",
      "[156]\tvalidation_0-logloss:0.56989\n",
      "[157]\tvalidation_0-logloss:0.56991\n",
      "[158]\tvalidation_0-logloss:0.56997\n",
      "[159]\tvalidation_0-logloss:0.56995\n",
      "[160]\tvalidation_0-logloss:0.56995\n",
      "[161]\tvalidation_0-logloss:0.56994\n",
      "[162]\tvalidation_0-logloss:0.56996\n",
      "[163]\tvalidation_0-logloss:0.57008\n",
      "[164]\tvalidation_0-logloss:0.57005\n",
      "[165]\tvalidation_0-logloss:0.57003\n",
      "[166]\tvalidation_0-logloss:0.57007\n",
      "[167]\tvalidation_0-logloss:0.57008\n",
      "[168]\tvalidation_0-logloss:0.57003\n",
      "[169]\tvalidation_0-logloss:0.56999\n",
      "[170]\tvalidation_0-logloss:0.57000\n",
      "[171]\tvalidation_0-logloss:0.56999\n",
      "[172]\tvalidation_0-logloss:0.57002\n",
      "[173]\tvalidation_0-logloss:0.56999\n",
      "[174]\tvalidation_0-logloss:0.57010\n",
      "[175]\tvalidation_0-logloss:0.57003\n",
      "[176]\tvalidation_0-logloss:0.57005\n",
      "[177]\tvalidation_0-logloss:0.57007\n",
      "[178]\tvalidation_0-logloss:0.57004\n",
      "[179]\tvalidation_0-logloss:0.57006\n",
      "[180]\tvalidation_0-logloss:0.57010\n",
      "[181]\tvalidation_0-logloss:0.57020\n",
      "[182]\tvalidation_0-logloss:0.57036\n",
      "[183]\tvalidation_0-logloss:0.57034\n",
      "[184]\tvalidation_0-logloss:0.57030\n",
      "[185]\tvalidation_0-logloss:0.57026\n",
      "[186]\tvalidation_0-logloss:0.57037\n",
      "[187]\tvalidation_0-logloss:0.57040\n",
      "[188]\tvalidation_0-logloss:0.57045\n",
      "[189]\tvalidation_0-logloss:0.57049\n",
      "[190]\tvalidation_0-logloss:0.57049\n",
      "[191]\tvalidation_0-logloss:0.57050\n",
      "[192]\tvalidation_0-logloss:0.57044\n",
      "[193]\tvalidation_0-logloss:0.57050\n",
      "[194]\tvalidation_0-logloss:0.57049\n",
      "[195]\tvalidation_0-logloss:0.57052\n",
      "[196]\tvalidation_0-logloss:0.57055\n",
      "[197]\tvalidation_0-logloss:0.57058\n",
      "[198]\tvalidation_0-logloss:0.57056\n",
      "[199]\tvalidation_0-logloss:0.57054\n",
      "[200]\tvalidation_0-logloss:0.57062\n",
      "[201]\tvalidation_0-logloss:0.57072\n",
      "[202]\tvalidation_0-logloss:0.57071\n",
      "[203]\tvalidation_0-logloss:0.57075\n",
      "[204]\tvalidation_0-logloss:0.57079\n",
      "[205]\tvalidation_0-logloss:0.57082\n",
      "[206]\tvalidation_0-logloss:0.57071\n",
      "[207]\tvalidation_0-logloss:0.57070\n",
      "[208]\tvalidation_0-logloss:0.57072\n",
      "[209]\tvalidation_0-logloss:0.57077\n",
      "[210]\tvalidation_0-logloss:0.57072\n",
      "[211]\tvalidation_0-logloss:0.57070\n",
      "[212]\tvalidation_0-logloss:0.57068\n",
      "[213]\tvalidation_0-logloss:0.57057\n",
      "[214]\tvalidation_0-logloss:0.57064\n",
      "[215]\tvalidation_0-logloss:0.57061\n",
      "[216]\tvalidation_0-logloss:0.57064\n",
      "[217]\tvalidation_0-logloss:0.57065\n",
      "[218]\tvalidation_0-logloss:0.57068\n",
      "[219]\tvalidation_0-logloss:0.57064\n",
      "[220]\tvalidation_0-logloss:0.57066\n",
      "[221]\tvalidation_0-logloss:0.57070\n",
      "[222]\tvalidation_0-logloss:0.57078\n",
      "[223]\tvalidation_0-logloss:0.57086\n",
      "[224]\tvalidation_0-logloss:0.57092\n",
      "[225]\tvalidation_0-logloss:0.57095\n",
      "[226]\tvalidation_0-logloss:0.57097\n",
      "[227]\tvalidation_0-logloss:0.57097\n",
      "[228]\tvalidation_0-logloss:0.57095\n",
      "[229]\tvalidation_0-logloss:0.57098\n",
      "[230]\tvalidation_0-logloss:0.57104\n",
      "[231]\tvalidation_0-logloss:0.57106\n",
      "오차 행렬\n",
      "[[1948 1412]\n",
      " [ 577 2404]]\n",
      "정확도: 0.6863, 정밀도: 0.6300, 재현율: 0.8064, F1: 0.7074, AUC:0.7556\n"
     ]
    },
    {
     "name": "stderr",
     "output_type": "stream",
     "text": [
      "C:\\Users\\kimsj\\anaconda3\\lib\\site-packages\\xgboost\\data.py:112: UserWarning: Use subset (sliced data) of np.ndarray is not recommended because it will generate extra copies and increase memory consumption\n",
      "  warnings.warn(\n"
     ]
    }
   ],
   "source": [
    "# label/feature 분리 및 학습세트/평가세트 분리\n",
    "y_labels = vote_df.loc[:,'voted']\n",
    "X_features = vote_df.drop('voted', axis=1)\n",
    "X_train, X_test, y_train, y_test = train_test_split(X_features, y_labels, test_size=0.2, random_state=156)\n",
    "\n",
    "# 분포 비율 확인\n",
    "train_cnt = y_train.count()\n",
    "test_cnt = y_test.count()\n",
    "\n",
    "print(\"학습 세트 Shape:{0}, 테스트 세트 Shape:{1}\".format(X_train.shape, X_test.shape))\n",
    "print(\" 학습 세트 레이블 값 분포 비율\")\n",
    "print(y_train.value_counts()/train_cnt)\n",
    "print(\"\\n 테스트 세트 레이블 값 분포 비율\")\n",
    "print(y_test.value_counts()/test_cnt)\n",
    "print()\n",
    "\n",
    "# 데이터 정규화(스케일링)\n",
    "scaler = StandardScaler()\n",
    "X_train = scaler.fit_transform(X_train)\n",
    "X_test = scaler.transform(X_test)\n",
    "\n",
    "test_sc = scaler.transform(test_df) # test data scaling\n",
    "\n",
    "#undersampling\n",
    "under_sampler = RandomUnderSampler(random_state=156)\n",
    "X_train_under, y_train_under = under_sampler.fit_resample(X_train, y_train)\n",
    "\n",
    "# # smote oversampling\n",
    "# smote = SMOTE(random_state=156)\n",
    "# X_train_over, y_train_over = smote.fit_resample(X_train, y_train)\n",
    "\n",
    "# 학습\n",
    "evals = [(X_test, y_test)]\n",
    "xgb_model = XGBClassifier(n_estimators=400, learning_rate=0.1, max_depth=3, objective=\"binary:logistic\", random_state=156)\n",
    "xgb_model.fit(X_train_under, y_train_under, early_stopping_rounds=100, eval_metric=\"logloss\", eval_set=evals, verbose=True)\n",
    "preds = xgb_model.predict(X_test)\n",
    "pred_proba = xgb_model.predict_proba(X_test)[:,1]\n",
    "\n",
    "get_clf_eval(y_test, preds, pred_proba)"
   ]
  },
  {
   "cell_type": "markdown",
   "id": "adjustable-table",
   "metadata": {},
   "source": [
    "### 테스트 데이터 예측1"
   ]
  },
  {
   "cell_type": "code",
   "execution_count": 6,
   "id": "c10e82ec",
   "metadata": {},
   "outputs": [],
   "source": [
    "#학습한 데이터로 test_sc를 이용해 데이터 예측을 진행 했는데 샘플링의 유무, 스케일링의 유무, 를 비교하여 실행해도 오류가 발생하였다.\n",
    "#학습한 데이터의 index가 test_sc or test_df와 다른것이 원인 으로 생각해 학습하는 데이터의 index를 test_df와 동일 하게 하고 \n",
    "#위와 마찬가지로 샘플링의 유무와 같은 것들을 바꾸며 실행 하여도, 오류가 조금 씩 발생 하였다."
   ]
  },
  {
   "cell_type": "code",
   "execution_count": null,
   "id": "9f99c762",
   "metadata": {},
   "outputs": [],
   "source": [
    "xgb_model_test = XGBClassifier(n_estimators=400, learning_rate=0.1, max_depth=3, objective=\"binary:logistic\", random_state=156)\n",
    "for i in range(1):\n",
    "    xgb_model_test.fit(X_features.sample(test_df.shape[0]), y_labels.sample(test_df.shape[0]), eval_metric=\"logloss\")\n",
    "# 데이터 정규화(스케일링)\n",
    "scaler = StandardScaler()\n",
    "X_features = scaler.fit_transform(X_features)\n",
    "\n",
    "test_sc = scaler.transform(test_df) # test data scaling\n",
    "\n",
    "# preds_test = xgb_model.predict(test_df)\n",
    "# pred_proba_test = xgb_model.predict_proba(test_df)[:,1]\n",
    "preds_test = xgb_model_test.predict(test_sc)\n",
    "pred_proba_test = xgb_model_test.predict_proba(test_sc)[:,1]\n",
    "\n",
    "test_submission = pd.DataFrame({\"index\" : test_index,\n",
    "                                \"pred_prob\" : pred_proba_test,\n",
    "                                \"pred\" : preds_test})"
   ]
  },
  {
   "cell_type": "markdown",
   "id": "fb052b8e",
   "metadata": {},
   "source": [
    "### 테스트 데이터 예측2"
   ]
  },
  {
   "cell_type": "code",
   "execution_count": 7,
   "id": "4e25b801",
   "metadata": {},
   "outputs": [],
   "source": [
    "#학습을 test_df와 index가 같게 하여 학습을 한 후 예측을 진행할 경우 예측 값에 버그가 발생하지 않는 것을 확인 후  \n",
    "#여러번 실행해 값을 확인한 결과 값의 변동률이 싱한 것을 확인\n",
    "# for문으로 수차례 학습하고 예측하기를 반복 후 해당 예측 값들을 평균을 내었다.\n",
    "#평균 값을 넘으면 pred를 1로 아니면 0으로 값을 설정 하였다.\n",
    "#(평균으로 한 이유는 0.5나 기타 다른 값으로 할 경우 랜덤한 평균 값이 나오는 예측 결과 값을 통제 할 수 없었기 때문이다.)"
   ]
  },
  {
   "cell_type": "code",
   "execution_count": 14,
   "id": "induced-creek",
   "metadata": {
    "scrolled": true
   },
   "outputs": [
    {
     "name": "stderr",
     "output_type": "stream",
     "text": [
      "C:\\Users\\kimsj\\anaconda3\\lib\\site-packages\\xgboost\\sklearn.py:1146: UserWarning: The use of label encoder in XGBClassifier is deprecated and will be removed in a future release. To remove this warning, do the following: 1) Pass option use_label_encoder=False when constructing XGBClassifier object; and 2) Encode your labels (y) as integers starting with 0, i.e. 0, 1, 2, ..., [num_class - 1].\n",
      "  warnings.warn(label_encoder_deprecation_msg, UserWarning)\n"
     ]
    },
    {
     "name": "stdout",
     "output_type": "stream",
     "text": [
      "[23:05:24] WARNING: C:/Users/Administrator/workspace/xgboost-win64_release_1.4.0/src/learner.cc:1095: Starting in XGBoost 1.3.0, the default evaluation metric used with the objective 'binary:logistic' was changed from 'error' to 'logloss'. Explicitly set eval_metric if you'd like to restore the old behavior.\n"
     ]
    },
    {
     "name": "stderr",
     "output_type": "stream",
     "text": [
      "C:\\Users\\kimsj\\anaconda3\\lib\\site-packages\\xgboost\\data.py:112: UserWarning: Use subset (sliced data) of np.ndarray is not recommended because it will generate extra copies and increase memory consumption\n",
      "  warnings.warn(\n"
     ]
    },
    {
     "name": "stdout",
     "output_type": "stream",
     "text": [
      "[23:05:27] WARNING: C:/Users/Administrator/workspace/xgboost-win64_release_1.4.0/src/learner.cc:1095: Starting in XGBoost 1.3.0, the default evaluation metric used with the objective 'binary:logistic' was changed from 'error' to 'logloss'. Explicitly set eval_metric if you'd like to restore the old behavior.\n",
      "[23:05:29] WARNING: C:/Users/Administrator/workspace/xgboost-win64_release_1.4.0/src/learner.cc:1095: Starting in XGBoost 1.3.0, the default evaluation metric used with the objective 'binary:logistic' was changed from 'error' to 'logloss'. Explicitly set eval_metric if you'd like to restore the old behavior.\n",
      "[23:05:32] WARNING: C:/Users/Administrator/workspace/xgboost-win64_release_1.4.0/src/learner.cc:1095: Starting in XGBoost 1.3.0, the default evaluation metric used with the objective 'binary:logistic' was changed from 'error' to 'logloss'. Explicitly set eval_metric if you'd like to restore the old behavior.\n",
      "[23:05:36] WARNING: C:/Users/Administrator/workspace/xgboost-win64_release_1.4.0/src/learner.cc:1095: Starting in XGBoost 1.3.0, the default evaluation metric used with the objective 'binary:logistic' was changed from 'error' to 'logloss'. Explicitly set eval_metric if you'd like to restore the old behavior.\n",
      "[23:05:39] WARNING: C:/Users/Administrator/workspace/xgboost-win64_release_1.4.0/src/learner.cc:1095: Starting in XGBoost 1.3.0, the default evaluation metric used with the objective 'binary:logistic' was changed from 'error' to 'logloss'. Explicitly set eval_metric if you'd like to restore the old behavior.\n",
      "[23:05:42] WARNING: C:/Users/Administrator/workspace/xgboost-win64_release_1.4.0/src/learner.cc:1095: Starting in XGBoost 1.3.0, the default evaluation metric used with the objective 'binary:logistic' was changed from 'error' to 'logloss'. Explicitly set eval_metric if you'd like to restore the old behavior.\n",
      "[23:05:46] WARNING: C:/Users/Administrator/workspace/xgboost-win64_release_1.4.0/src/learner.cc:1095: Starting in XGBoost 1.3.0, the default evaluation metric used with the objective 'binary:logistic' was changed from 'error' to 'logloss'. Explicitly set eval_metric if you'd like to restore the old behavior.\n",
      "[23:05:49] WARNING: C:/Users/Administrator/workspace/xgboost-win64_release_1.4.0/src/learner.cc:1095: Starting in XGBoost 1.3.0, the default evaluation metric used with the objective 'binary:logistic' was changed from 'error' to 'logloss'. Explicitly set eval_metric if you'd like to restore the old behavior.\n",
      "[23:05:52] WARNING: C:/Users/Administrator/workspace/xgboost-win64_release_1.4.0/src/learner.cc:1095: Starting in XGBoost 1.3.0, the default evaluation metric used with the objective 'binary:logistic' was changed from 'error' to 'logloss'. Explicitly set eval_metric if you'd like to restore the old behavior.\n",
      "[23:05:56] WARNING: C:/Users/Administrator/workspace/xgboost-win64_release_1.4.0/src/learner.cc:1095: Starting in XGBoost 1.3.0, the default evaluation metric used with the objective 'binary:logistic' was changed from 'error' to 'logloss'. Explicitly set eval_metric if you'd like to restore the old behavior.\n",
      "[23:05:59] WARNING: C:/Users/Administrator/workspace/xgboost-win64_release_1.4.0/src/learner.cc:1095: Starting in XGBoost 1.3.0, the default evaluation metric used with the objective 'binary:logistic' was changed from 'error' to 'logloss'. Explicitly set eval_metric if you'd like to restore the old behavior.\n",
      "[23:06:02] WARNING: C:/Users/Administrator/workspace/xgboost-win64_release_1.4.0/src/learner.cc:1095: Starting in XGBoost 1.3.0, the default evaluation metric used with the objective 'binary:logistic' was changed from 'error' to 'logloss'. Explicitly set eval_metric if you'd like to restore the old behavior.\n",
      "[23:06:06] WARNING: C:/Users/Administrator/workspace/xgboost-win64_release_1.4.0/src/learner.cc:1095: Starting in XGBoost 1.3.0, the default evaluation metric used with the objective 'binary:logistic' was changed from 'error' to 'logloss'. Explicitly set eval_metric if you'd like to restore the old behavior.\n",
      "[23:06:09] WARNING: C:/Users/Administrator/workspace/xgboost-win64_release_1.4.0/src/learner.cc:1095: Starting in XGBoost 1.3.0, the default evaluation metric used with the objective 'binary:logistic' was changed from 'error' to 'logloss'. Explicitly set eval_metric if you'd like to restore the old behavior.\n",
      "[23:06:12] WARNING: C:/Users/Administrator/workspace/xgboost-win64_release_1.4.0/src/learner.cc:1095: Starting in XGBoost 1.3.0, the default evaluation metric used with the objective 'binary:logistic' was changed from 'error' to 'logloss'. Explicitly set eval_metric if you'd like to restore the old behavior.\n",
      "[23:06:15] WARNING: C:/Users/Administrator/workspace/xgboost-win64_release_1.4.0/src/learner.cc:1095: Starting in XGBoost 1.3.0, the default evaluation metric used with the objective 'binary:logistic' was changed from 'error' to 'logloss'. Explicitly set eval_metric if you'd like to restore the old behavior.\n",
      "[23:06:18] WARNING: C:/Users/Administrator/workspace/xgboost-win64_release_1.4.0/src/learner.cc:1095: Starting in XGBoost 1.3.0, the default evaluation metric used with the objective 'binary:logistic' was changed from 'error' to 'logloss'. Explicitly set eval_metric if you'd like to restore the old behavior.\n",
      "[23:06:21] WARNING: C:/Users/Administrator/workspace/xgboost-win64_release_1.4.0/src/learner.cc:1095: Starting in XGBoost 1.3.0, the default evaluation metric used with the objective 'binary:logistic' was changed from 'error' to 'logloss'. Explicitly set eval_metric if you'd like to restore the old behavior.\n",
      "[23:06:24] WARNING: C:/Users/Administrator/workspace/xgboost-win64_release_1.4.0/src/learner.cc:1095: Starting in XGBoost 1.3.0, the default evaluation metric used with the objective 'binary:logistic' was changed from 'error' to 'logloss'. Explicitly set eval_metric if you'd like to restore the old behavior.\n",
      "[23:06:27] WARNING: C:/Users/Administrator/workspace/xgboost-win64_release_1.4.0/src/learner.cc:1095: Starting in XGBoost 1.3.0, the default evaluation metric used with the objective 'binary:logistic' was changed from 'error' to 'logloss'. Explicitly set eval_metric if you'd like to restore the old behavior.\n",
      "[23:06:31] WARNING: C:/Users/Administrator/workspace/xgboost-win64_release_1.4.0/src/learner.cc:1095: Starting in XGBoost 1.3.0, the default evaluation metric used with the objective 'binary:logistic' was changed from 'error' to 'logloss'. Explicitly set eval_metric if you'd like to restore the old behavior.\n",
      "[23:06:34] WARNING: C:/Users/Administrator/workspace/xgboost-win64_release_1.4.0/src/learner.cc:1095: Starting in XGBoost 1.3.0, the default evaluation metric used with the objective 'binary:logistic' was changed from 'error' to 'logloss'. Explicitly set eval_metric if you'd like to restore the old behavior.\n",
      "[23:06:38] WARNING: C:/Users/Administrator/workspace/xgboost-win64_release_1.4.0/src/learner.cc:1095: Starting in XGBoost 1.3.0, the default evaluation metric used with the objective 'binary:logistic' was changed from 'error' to 'logloss'. Explicitly set eval_metric if you'd like to restore the old behavior.\n",
      "[23:06:41] WARNING: C:/Users/Administrator/workspace/xgboost-win64_release_1.4.0/src/learner.cc:1095: Starting in XGBoost 1.3.0, the default evaluation metric used with the objective 'binary:logistic' was changed from 'error' to 'logloss'. Explicitly set eval_metric if you'd like to restore the old behavior.\n",
      "[23:06:44] WARNING: C:/Users/Administrator/workspace/xgboost-win64_release_1.4.0/src/learner.cc:1095: Starting in XGBoost 1.3.0, the default evaluation metric used with the objective 'binary:logistic' was changed from 'error' to 'logloss'. Explicitly set eval_metric if you'd like to restore the old behavior.\n",
      "[23:06:47] WARNING: C:/Users/Administrator/workspace/xgboost-win64_release_1.4.0/src/learner.cc:1095: Starting in XGBoost 1.3.0, the default evaluation metric used with the objective 'binary:logistic' was changed from 'error' to 'logloss'. Explicitly set eval_metric if you'd like to restore the old behavior.\n",
      "[23:06:51] WARNING: C:/Users/Administrator/workspace/xgboost-win64_release_1.4.0/src/learner.cc:1095: Starting in XGBoost 1.3.0, the default evaluation metric used with the objective 'binary:logistic' was changed from 'error' to 'logloss'. Explicitly set eval_metric if you'd like to restore the old behavior.\n"
     ]
    },
    {
     "name": "stdout",
     "output_type": "stream",
     "text": [
      "[23:06:55] WARNING: C:/Users/Administrator/workspace/xgboost-win64_release_1.4.0/src/learner.cc:1095: Starting in XGBoost 1.3.0, the default evaluation metric used with the objective 'binary:logistic' was changed from 'error' to 'logloss'. Explicitly set eval_metric if you'd like to restore the old behavior.\n",
      "[23:06:58] WARNING: C:/Users/Administrator/workspace/xgboost-win64_release_1.4.0/src/learner.cc:1095: Starting in XGBoost 1.3.0, the default evaluation metric used with the objective 'binary:logistic' was changed from 'error' to 'logloss'. Explicitly set eval_metric if you'd like to restore the old behavior.\n",
      "[23:07:03] WARNING: C:/Users/Administrator/workspace/xgboost-win64_release_1.4.0/src/learner.cc:1095: Starting in XGBoost 1.3.0, the default evaluation metric used with the objective 'binary:logistic' was changed from 'error' to 'logloss'. Explicitly set eval_metric if you'd like to restore the old behavior.\n",
      "[23:07:07] WARNING: C:/Users/Administrator/workspace/xgboost-win64_release_1.4.0/src/learner.cc:1095: Starting in XGBoost 1.3.0, the default evaluation metric used with the objective 'binary:logistic' was changed from 'error' to 'logloss'. Explicitly set eval_metric if you'd like to restore the old behavior.\n",
      "[23:07:11] WARNING: C:/Users/Administrator/workspace/xgboost-win64_release_1.4.0/src/learner.cc:1095: Starting in XGBoost 1.3.0, the default evaluation metric used with the objective 'binary:logistic' was changed from 'error' to 'logloss'. Explicitly set eval_metric if you'd like to restore the old behavior.\n",
      "[23:07:15] WARNING: C:/Users/Administrator/workspace/xgboost-win64_release_1.4.0/src/learner.cc:1095: Starting in XGBoost 1.3.0, the default evaluation metric used with the objective 'binary:logistic' was changed from 'error' to 'logloss'. Explicitly set eval_metric if you'd like to restore the old behavior.\n",
      "[23:07:20] WARNING: C:/Users/Administrator/workspace/xgboost-win64_release_1.4.0/src/learner.cc:1095: Starting in XGBoost 1.3.0, the default evaluation metric used with the objective 'binary:logistic' was changed from 'error' to 'logloss'. Explicitly set eval_metric if you'd like to restore the old behavior.\n",
      "[23:07:24] WARNING: C:/Users/Administrator/workspace/xgboost-win64_release_1.4.0/src/learner.cc:1095: Starting in XGBoost 1.3.0, the default evaluation metric used with the objective 'binary:logistic' was changed from 'error' to 'logloss'. Explicitly set eval_metric if you'd like to restore the old behavior.\n",
      "[23:07:28] WARNING: C:/Users/Administrator/workspace/xgboost-win64_release_1.4.0/src/learner.cc:1095: Starting in XGBoost 1.3.0, the default evaluation metric used with the objective 'binary:logistic' was changed from 'error' to 'logloss'. Explicitly set eval_metric if you'd like to restore the old behavior.\n",
      "[23:07:33] WARNING: C:/Users/Administrator/workspace/xgboost-win64_release_1.4.0/src/learner.cc:1095: Starting in XGBoost 1.3.0, the default evaluation metric used with the objective 'binary:logistic' was changed from 'error' to 'logloss'. Explicitly set eval_metric if you'd like to restore the old behavior.\n",
      "[23:07:38] WARNING: C:/Users/Administrator/workspace/xgboost-win64_release_1.4.0/src/learner.cc:1095: Starting in XGBoost 1.3.0, the default evaluation metric used with the objective 'binary:logistic' was changed from 'error' to 'logloss'. Explicitly set eval_metric if you'd like to restore the old behavior.\n",
      "[23:07:43] WARNING: C:/Users/Administrator/workspace/xgboost-win64_release_1.4.0/src/learner.cc:1095: Starting in XGBoost 1.3.0, the default evaluation metric used with the objective 'binary:logistic' was changed from 'error' to 'logloss'. Explicitly set eval_metric if you'd like to restore the old behavior.\n",
      "[23:07:47] WARNING: C:/Users/Administrator/workspace/xgboost-win64_release_1.4.0/src/learner.cc:1095: Starting in XGBoost 1.3.0, the default evaluation metric used with the objective 'binary:logistic' was changed from 'error' to 'logloss'. Explicitly set eval_metric if you'd like to restore the old behavior.\n",
      "[23:07:51] WARNING: C:/Users/Administrator/workspace/xgboost-win64_release_1.4.0/src/learner.cc:1095: Starting in XGBoost 1.3.0, the default evaluation metric used with the objective 'binary:logistic' was changed from 'error' to 'logloss'. Explicitly set eval_metric if you'd like to restore the old behavior.\n",
      "[23:07:56] WARNING: C:/Users/Administrator/workspace/xgboost-win64_release_1.4.0/src/learner.cc:1095: Starting in XGBoost 1.3.0, the default evaluation metric used with the objective 'binary:logistic' was changed from 'error' to 'logloss'. Explicitly set eval_metric if you'd like to restore the old behavior.\n",
      "[23:08:00] WARNING: C:/Users/Administrator/workspace/xgboost-win64_release_1.4.0/src/learner.cc:1095: Starting in XGBoost 1.3.0, the default evaluation metric used with the objective 'binary:logistic' was changed from 'error' to 'logloss'. Explicitly set eval_metric if you'd like to restore the old behavior.\n",
      "[23:08:06] WARNING: C:/Users/Administrator/workspace/xgboost-win64_release_1.4.0/src/learner.cc:1095: Starting in XGBoost 1.3.0, the default evaluation metric used with the objective 'binary:logistic' was changed from 'error' to 'logloss'. Explicitly set eval_metric if you'd like to restore the old behavior.\n",
      "[23:08:10] WARNING: C:/Users/Administrator/workspace/xgboost-win64_release_1.4.0/src/learner.cc:1095: Starting in XGBoost 1.3.0, the default evaluation metric used with the objective 'binary:logistic' was changed from 'error' to 'logloss'. Explicitly set eval_metric if you'd like to restore the old behavior.\n",
      "[23:08:15] WARNING: C:/Users/Administrator/workspace/xgboost-win64_release_1.4.0/src/learner.cc:1095: Starting in XGBoost 1.3.0, the default evaluation metric used with the objective 'binary:logistic' was changed from 'error' to 'logloss'. Explicitly set eval_metric if you'd like to restore the old behavior.\n",
      "[23:08:20] WARNING: C:/Users/Administrator/workspace/xgboost-win64_release_1.4.0/src/learner.cc:1095: Starting in XGBoost 1.3.0, the default evaluation metric used with the objective 'binary:logistic' was changed from 'error' to 'logloss'. Explicitly set eval_metric if you'd like to restore the old behavior.\n",
      "[23:08:24] WARNING: C:/Users/Administrator/workspace/xgboost-win64_release_1.4.0/src/learner.cc:1095: Starting in XGBoost 1.3.0, the default evaluation metric used with the objective 'binary:logistic' was changed from 'error' to 'logloss'. Explicitly set eval_metric if you'd like to restore the old behavior.\n",
      "[23:08:29] WARNING: C:/Users/Administrator/workspace/xgboost-win64_release_1.4.0/src/learner.cc:1095: Starting in XGBoost 1.3.0, the default evaluation metric used with the objective 'binary:logistic' was changed from 'error' to 'logloss'. Explicitly set eval_metric if you'd like to restore the old behavior.\n",
      "[23:08:34] WARNING: C:/Users/Administrator/workspace/xgboost-win64_release_1.4.0/src/learner.cc:1095: Starting in XGBoost 1.3.0, the default evaluation metric used with the objective 'binary:logistic' was changed from 'error' to 'logloss'. Explicitly set eval_metric if you'd like to restore the old behavior.\n",
      "[23:08:39] WARNING: C:/Users/Administrator/workspace/xgboost-win64_release_1.4.0/src/learner.cc:1095: Starting in XGBoost 1.3.0, the default evaluation metric used with the objective 'binary:logistic' was changed from 'error' to 'logloss'. Explicitly set eval_metric if you'd like to restore the old behavior.\n",
      "[23:08:44] WARNING: C:/Users/Administrator/workspace/xgboost-win64_release_1.4.0/src/learner.cc:1095: Starting in XGBoost 1.3.0, the default evaluation metric used with the objective 'binary:logistic' was changed from 'error' to 'logloss'. Explicitly set eval_metric if you'd like to restore the old behavior.\n",
      "[23:08:48] WARNING: C:/Users/Administrator/workspace/xgboost-win64_release_1.4.0/src/learner.cc:1095: Starting in XGBoost 1.3.0, the default evaluation metric used with the objective 'binary:logistic' was changed from 'error' to 'logloss'. Explicitly set eval_metric if you'd like to restore the old behavior.\n",
      "[23:08:53] WARNING: C:/Users/Administrator/workspace/xgboost-win64_release_1.4.0/src/learner.cc:1095: Starting in XGBoost 1.3.0, the default evaluation metric used with the objective 'binary:logistic' was changed from 'error' to 'logloss'. Explicitly set eval_metric if you'd like to restore the old behavior.\n"
     ]
    },
    {
     "name": "stdout",
     "output_type": "stream",
     "text": [
      "[23:08:57] WARNING: C:/Users/Administrator/workspace/xgboost-win64_release_1.4.0/src/learner.cc:1095: Starting in XGBoost 1.3.0, the default evaluation metric used with the objective 'binary:logistic' was changed from 'error' to 'logloss'. Explicitly set eval_metric if you'd like to restore the old behavior.\n",
      "[23:09:02] WARNING: C:/Users/Administrator/workspace/xgboost-win64_release_1.4.0/src/learner.cc:1095: Starting in XGBoost 1.3.0, the default evaluation metric used with the objective 'binary:logistic' was changed from 'error' to 'logloss'. Explicitly set eval_metric if you'd like to restore the old behavior.\n",
      "[23:09:08] WARNING: C:/Users/Administrator/workspace/xgboost-win64_release_1.4.0/src/learner.cc:1095: Starting in XGBoost 1.3.0, the default evaluation metric used with the objective 'binary:logistic' was changed from 'error' to 'logloss'. Explicitly set eval_metric if you'd like to restore the old behavior.\n",
      "[23:09:12] WARNING: C:/Users/Administrator/workspace/xgboost-win64_release_1.4.0/src/learner.cc:1095: Starting in XGBoost 1.3.0, the default evaluation metric used with the objective 'binary:logistic' was changed from 'error' to 'logloss'. Explicitly set eval_metric if you'd like to restore the old behavior.\n",
      "[23:09:17] WARNING: C:/Users/Administrator/workspace/xgboost-win64_release_1.4.0/src/learner.cc:1095: Starting in XGBoost 1.3.0, the default evaluation metric used with the objective 'binary:logistic' was changed from 'error' to 'logloss'. Explicitly set eval_metric if you'd like to restore the old behavior.\n",
      "[23:09:23] WARNING: C:/Users/Administrator/workspace/xgboost-win64_release_1.4.0/src/learner.cc:1095: Starting in XGBoost 1.3.0, the default evaluation metric used with the objective 'binary:logistic' was changed from 'error' to 'logloss'. Explicitly set eval_metric if you'd like to restore the old behavior.\n",
      "[23:09:27] WARNING: C:/Users/Administrator/workspace/xgboost-win64_release_1.4.0/src/learner.cc:1095: Starting in XGBoost 1.3.0, the default evaluation metric used with the objective 'binary:logistic' was changed from 'error' to 'logloss'. Explicitly set eval_metric if you'd like to restore the old behavior.\n",
      "[23:09:33] WARNING: C:/Users/Administrator/workspace/xgboost-win64_release_1.4.0/src/learner.cc:1095: Starting in XGBoost 1.3.0, the default evaluation metric used with the objective 'binary:logistic' was changed from 'error' to 'logloss'. Explicitly set eval_metric if you'd like to restore the old behavior.\n",
      "[23:09:38] WARNING: C:/Users/Administrator/workspace/xgboost-win64_release_1.4.0/src/learner.cc:1095: Starting in XGBoost 1.3.0, the default evaluation metric used with the objective 'binary:logistic' was changed from 'error' to 'logloss'. Explicitly set eval_metric if you'd like to restore the old behavior.\n",
      "[23:09:43] WARNING: C:/Users/Administrator/workspace/xgboost-win64_release_1.4.0/src/learner.cc:1095: Starting in XGBoost 1.3.0, the default evaluation metric used with the objective 'binary:logistic' was changed from 'error' to 'logloss'. Explicitly set eval_metric if you'd like to restore the old behavior.\n",
      "[23:09:47] WARNING: C:/Users/Administrator/workspace/xgboost-win64_release_1.4.0/src/learner.cc:1095: Starting in XGBoost 1.3.0, the default evaluation metric used with the objective 'binary:logistic' was changed from 'error' to 'logloss'. Explicitly set eval_metric if you'd like to restore the old behavior.\n",
      "[23:09:52] WARNING: C:/Users/Administrator/workspace/xgboost-win64_release_1.4.0/src/learner.cc:1095: Starting in XGBoost 1.3.0, the default evaluation metric used with the objective 'binary:logistic' was changed from 'error' to 'logloss'. Explicitly set eval_metric if you'd like to restore the old behavior.\n",
      "[23:09:57] WARNING: C:/Users/Administrator/workspace/xgboost-win64_release_1.4.0/src/learner.cc:1095: Starting in XGBoost 1.3.0, the default evaluation metric used with the objective 'binary:logistic' was changed from 'error' to 'logloss'. Explicitly set eval_metric if you'd like to restore the old behavior.\n",
      "[23:10:03] WARNING: C:/Users/Administrator/workspace/xgboost-win64_release_1.4.0/src/learner.cc:1095: Starting in XGBoost 1.3.0, the default evaluation metric used with the objective 'binary:logistic' was changed from 'error' to 'logloss'. Explicitly set eval_metric if you'd like to restore the old behavior.\n",
      "[23:10:08] WARNING: C:/Users/Administrator/workspace/xgboost-win64_release_1.4.0/src/learner.cc:1095: Starting in XGBoost 1.3.0, the default evaluation metric used with the objective 'binary:logistic' was changed from 'error' to 'logloss'. Explicitly set eval_metric if you'd like to restore the old behavior.\n",
      "[23:10:12] WARNING: C:/Users/Administrator/workspace/xgboost-win64_release_1.4.0/src/learner.cc:1095: Starting in XGBoost 1.3.0, the default evaluation metric used with the objective 'binary:logistic' was changed from 'error' to 'logloss'. Explicitly set eval_metric if you'd like to restore the old behavior.\n",
      "[23:10:17] WARNING: C:/Users/Administrator/workspace/xgboost-win64_release_1.4.0/src/learner.cc:1095: Starting in XGBoost 1.3.0, the default evaluation metric used with the objective 'binary:logistic' was changed from 'error' to 'logloss'. Explicitly set eval_metric if you'd like to restore the old behavior.\n",
      "[23:10:22] WARNING: C:/Users/Administrator/workspace/xgboost-win64_release_1.4.0/src/learner.cc:1095: Starting in XGBoost 1.3.0, the default evaluation metric used with the objective 'binary:logistic' was changed from 'error' to 'logloss'. Explicitly set eval_metric if you'd like to restore the old behavior.\n",
      "[23:10:26] WARNING: C:/Users/Administrator/workspace/xgboost-win64_release_1.4.0/src/learner.cc:1095: Starting in XGBoost 1.3.0, the default evaluation metric used with the objective 'binary:logistic' was changed from 'error' to 'logloss'. Explicitly set eval_metric if you'd like to restore the old behavior.\n",
      "[23:10:31] WARNING: C:/Users/Administrator/workspace/xgboost-win64_release_1.4.0/src/learner.cc:1095: Starting in XGBoost 1.3.0, the default evaluation metric used with the objective 'binary:logistic' was changed from 'error' to 'logloss'. Explicitly set eval_metric if you'd like to restore the old behavior.\n",
      "[23:10:36] WARNING: C:/Users/Administrator/workspace/xgboost-win64_release_1.4.0/src/learner.cc:1095: Starting in XGBoost 1.3.0, the default evaluation metric used with the objective 'binary:logistic' was changed from 'error' to 'logloss'. Explicitly set eval_metric if you'd like to restore the old behavior.\n",
      "[23:10:41] WARNING: C:/Users/Administrator/workspace/xgboost-win64_release_1.4.0/src/learner.cc:1095: Starting in XGBoost 1.3.0, the default evaluation metric used with the objective 'binary:logistic' was changed from 'error' to 'logloss'. Explicitly set eval_metric if you'd like to restore the old behavior.\n",
      "[23:10:46] WARNING: C:/Users/Administrator/workspace/xgboost-win64_release_1.4.0/src/learner.cc:1095: Starting in XGBoost 1.3.0, the default evaluation metric used with the objective 'binary:logistic' was changed from 'error' to 'logloss'. Explicitly set eval_metric if you'd like to restore the old behavior.\n",
      "[23:10:50] WARNING: C:/Users/Administrator/workspace/xgboost-win64_release_1.4.0/src/learner.cc:1095: Starting in XGBoost 1.3.0, the default evaluation metric used with the objective 'binary:logistic' was changed from 'error' to 'logloss'. Explicitly set eval_metric if you'd like to restore the old behavior.\n",
      "[23:10:55] WARNING: C:/Users/Administrator/workspace/xgboost-win64_release_1.4.0/src/learner.cc:1095: Starting in XGBoost 1.3.0, the default evaluation metric used with the objective 'binary:logistic' was changed from 'error' to 'logloss'. Explicitly set eval_metric if you'd like to restore the old behavior.\n",
      "[23:10:59] WARNING: C:/Users/Administrator/workspace/xgboost-win64_release_1.4.0/src/learner.cc:1095: Starting in XGBoost 1.3.0, the default evaluation metric used with the objective 'binary:logistic' was changed from 'error' to 'logloss'. Explicitly set eval_metric if you'd like to restore the old behavior.\n",
      "[23:11:05] WARNING: C:/Users/Administrator/workspace/xgboost-win64_release_1.4.0/src/learner.cc:1095: Starting in XGBoost 1.3.0, the default evaluation metric used with the objective 'binary:logistic' was changed from 'error' to 'logloss'. Explicitly set eval_metric if you'd like to restore the old behavior.\n"
     ]
    },
    {
     "name": "stdout",
     "output_type": "stream",
     "text": [
      "[23:11:10] WARNING: C:/Users/Administrator/workspace/xgboost-win64_release_1.4.0/src/learner.cc:1095: Starting in XGBoost 1.3.0, the default evaluation metric used with the objective 'binary:logistic' was changed from 'error' to 'logloss'. Explicitly set eval_metric if you'd like to restore the old behavior.\n",
      "[23:11:14] WARNING: C:/Users/Administrator/workspace/xgboost-win64_release_1.4.0/src/learner.cc:1095: Starting in XGBoost 1.3.0, the default evaluation metric used with the objective 'binary:logistic' was changed from 'error' to 'logloss'. Explicitly set eval_metric if you'd like to restore the old behavior.\n",
      "[23:11:19] WARNING: C:/Users/Administrator/workspace/xgboost-win64_release_1.4.0/src/learner.cc:1095: Starting in XGBoost 1.3.0, the default evaluation metric used with the objective 'binary:logistic' was changed from 'error' to 'logloss'. Explicitly set eval_metric if you'd like to restore the old behavior.\n",
      "[23:11:23] WARNING: C:/Users/Administrator/workspace/xgboost-win64_release_1.4.0/src/learner.cc:1095: Starting in XGBoost 1.3.0, the default evaluation metric used with the objective 'binary:logistic' was changed from 'error' to 'logloss'. Explicitly set eval_metric if you'd like to restore the old behavior.\n",
      "[23:11:28] WARNING: C:/Users/Administrator/workspace/xgboost-win64_release_1.4.0/src/learner.cc:1095: Starting in XGBoost 1.3.0, the default evaluation metric used with the objective 'binary:logistic' was changed from 'error' to 'logloss'. Explicitly set eval_metric if you'd like to restore the old behavior.\n",
      "[23:11:33] WARNING: C:/Users/Administrator/workspace/xgboost-win64_release_1.4.0/src/learner.cc:1095: Starting in XGBoost 1.3.0, the default evaluation metric used with the objective 'binary:logistic' was changed from 'error' to 'logloss'. Explicitly set eval_metric if you'd like to restore the old behavior.\n",
      "[23:11:38] WARNING: C:/Users/Administrator/workspace/xgboost-win64_release_1.4.0/src/learner.cc:1095: Starting in XGBoost 1.3.0, the default evaluation metric used with the objective 'binary:logistic' was changed from 'error' to 'logloss'. Explicitly set eval_metric if you'd like to restore the old behavior.\n",
      "[23:11:43] WARNING: C:/Users/Administrator/workspace/xgboost-win64_release_1.4.0/src/learner.cc:1095: Starting in XGBoost 1.3.0, the default evaluation metric used with the objective 'binary:logistic' was changed from 'error' to 'logloss'. Explicitly set eval_metric if you'd like to restore the old behavior.\n",
      "[23:11:47] WARNING: C:/Users/Administrator/workspace/xgboost-win64_release_1.4.0/src/learner.cc:1095: Starting in XGBoost 1.3.0, the default evaluation metric used with the objective 'binary:logistic' was changed from 'error' to 'logloss'. Explicitly set eval_metric if you'd like to restore the old behavior.\n",
      "[23:11:52] WARNING: C:/Users/Administrator/workspace/xgboost-win64_release_1.4.0/src/learner.cc:1095: Starting in XGBoost 1.3.0, the default evaluation metric used with the objective 'binary:logistic' was changed from 'error' to 'logloss'. Explicitly set eval_metric if you'd like to restore the old behavior.\n",
      "[23:11:57] WARNING: C:/Users/Administrator/workspace/xgboost-win64_release_1.4.0/src/learner.cc:1095: Starting in XGBoost 1.3.0, the default evaluation metric used with the objective 'binary:logistic' was changed from 'error' to 'logloss'. Explicitly set eval_metric if you'd like to restore the old behavior.\n",
      "[23:12:01] WARNING: C:/Users/Administrator/workspace/xgboost-win64_release_1.4.0/src/learner.cc:1095: Starting in XGBoost 1.3.0, the default evaluation metric used with the objective 'binary:logistic' was changed from 'error' to 'logloss'. Explicitly set eval_metric if you'd like to restore the old behavior.\n",
      "[23:12:07] WARNING: C:/Users/Administrator/workspace/xgboost-win64_release_1.4.0/src/learner.cc:1095: Starting in XGBoost 1.3.0, the default evaluation metric used with the objective 'binary:logistic' was changed from 'error' to 'logloss'. Explicitly set eval_metric if you'd like to restore the old behavior.\n",
      "[23:12:11] WARNING: C:/Users/Administrator/workspace/xgboost-win64_release_1.4.0/src/learner.cc:1095: Starting in XGBoost 1.3.0, the default evaluation metric used with the objective 'binary:logistic' was changed from 'error' to 'logloss'. Explicitly set eval_metric if you'd like to restore the old behavior.\n",
      "[23:12:16] WARNING: C:/Users/Administrator/workspace/xgboost-win64_release_1.4.0/src/learner.cc:1095: Starting in XGBoost 1.3.0, the default evaluation metric used with the objective 'binary:logistic' was changed from 'error' to 'logloss'. Explicitly set eval_metric if you'd like to restore the old behavior.\n",
      "[23:12:21] WARNING: C:/Users/Administrator/workspace/xgboost-win64_release_1.4.0/src/learner.cc:1095: Starting in XGBoost 1.3.0, the default evaluation metric used with the objective 'binary:logistic' was changed from 'error' to 'logloss'. Explicitly set eval_metric if you'd like to restore the old behavior.\n",
      "[23:12:25] WARNING: C:/Users/Administrator/workspace/xgboost-win64_release_1.4.0/src/learner.cc:1095: Starting in XGBoost 1.3.0, the default evaluation metric used with the objective 'binary:logistic' was changed from 'error' to 'logloss'. Explicitly set eval_metric if you'd like to restore the old behavior.\n",
      "[23:12:30] WARNING: C:/Users/Administrator/workspace/xgboost-win64_release_1.4.0/src/learner.cc:1095: Starting in XGBoost 1.3.0, the default evaluation metric used with the objective 'binary:logistic' was changed from 'error' to 'logloss'. Explicitly set eval_metric if you'd like to restore the old behavior.\n",
      "[23:12:35] WARNING: C:/Users/Administrator/workspace/xgboost-win64_release_1.4.0/src/learner.cc:1095: Starting in XGBoost 1.3.0, the default evaluation metric used with the objective 'binary:logistic' was changed from 'error' to 'logloss'. Explicitly set eval_metric if you'd like to restore the old behavior.\n",
      "[23:12:40] WARNING: C:/Users/Administrator/workspace/xgboost-win64_release_1.4.0/src/learner.cc:1095: Starting in XGBoost 1.3.0, the default evaluation metric used with the objective 'binary:logistic' was changed from 'error' to 'logloss'. Explicitly set eval_metric if you'd like to restore the old behavior.\n",
      "[23:12:45] WARNING: C:/Users/Administrator/workspace/xgboost-win64_release_1.4.0/src/learner.cc:1095: Starting in XGBoost 1.3.0, the default evaluation metric used with the objective 'binary:logistic' was changed from 'error' to 'logloss'. Explicitly set eval_metric if you'd like to restore the old behavior.\n",
      "[23:12:49] WARNING: C:/Users/Administrator/workspace/xgboost-win64_release_1.4.0/src/learner.cc:1095: Starting in XGBoost 1.3.0, the default evaluation metric used with the objective 'binary:logistic' was changed from 'error' to 'logloss'. Explicitly set eval_metric if you'd like to restore the old behavior.\n",
      "[23:12:54] WARNING: C:/Users/Administrator/workspace/xgboost-win64_release_1.4.0/src/learner.cc:1095: Starting in XGBoost 1.3.0, the default evaluation metric used with the objective 'binary:logistic' was changed from 'error' to 'logloss'. Explicitly set eval_metric if you'd like to restore the old behavior.\n",
      "[23:12:58] WARNING: C:/Users/Administrator/workspace/xgboost-win64_release_1.4.0/src/learner.cc:1095: Starting in XGBoost 1.3.0, the default evaluation metric used with the objective 'binary:logistic' was changed from 'error' to 'logloss'. Explicitly set eval_metric if you'd like to restore the old behavior.\n",
      "[23:13:04] WARNING: C:/Users/Administrator/workspace/xgboost-win64_release_1.4.0/src/learner.cc:1095: Starting in XGBoost 1.3.0, the default evaluation metric used with the objective 'binary:logistic' was changed from 'error' to 'logloss'. Explicitly set eval_metric if you'd like to restore the old behavior.\n",
      "[23:13:08] WARNING: C:/Users/Administrator/workspace/xgboost-win64_release_1.4.0/src/learner.cc:1095: Starting in XGBoost 1.3.0, the default evaluation metric used with the objective 'binary:logistic' was changed from 'error' to 'logloss'. Explicitly set eval_metric if you'd like to restore the old behavior.\n",
      "[23:13:13] WARNING: C:/Users/Administrator/workspace/xgboost-win64_release_1.4.0/src/learner.cc:1095: Starting in XGBoost 1.3.0, the default evaluation metric used with the objective 'binary:logistic' was changed from 'error' to 'logloss'. Explicitly set eval_metric if you'd like to restore the old behavior.\n"
     ]
    },
    {
     "name": "stdout",
     "output_type": "stream",
     "text": [
      "[23:13:18] WARNING: C:/Users/Administrator/workspace/xgboost-win64_release_1.4.0/src/learner.cc:1095: Starting in XGBoost 1.3.0, the default evaluation metric used with the objective 'binary:logistic' was changed from 'error' to 'logloss'. Explicitly set eval_metric if you'd like to restore the old behavior.\n",
      "[23:13:22] WARNING: C:/Users/Administrator/workspace/xgboost-win64_release_1.4.0/src/learner.cc:1095: Starting in XGBoost 1.3.0, the default evaluation metric used with the objective 'binary:logistic' was changed from 'error' to 'logloss'. Explicitly set eval_metric if you'd like to restore the old behavior.\n",
      "[23:13:27] WARNING: C:/Users/Administrator/workspace/xgboost-win64_release_1.4.0/src/learner.cc:1095: Starting in XGBoost 1.3.0, the default evaluation metric used with the objective 'binary:logistic' was changed from 'error' to 'logloss'. Explicitly set eval_metric if you'd like to restore the old behavior.\n",
      "[23:13:32] WARNING: C:/Users/Administrator/workspace/xgboost-win64_release_1.4.0/src/learner.cc:1095: Starting in XGBoost 1.3.0, the default evaluation metric used with the objective 'binary:logistic' was changed from 'error' to 'logloss'. Explicitly set eval_metric if you'd like to restore the old behavior.\n",
      "[23:13:37] WARNING: C:/Users/Administrator/workspace/xgboost-win64_release_1.4.0/src/learner.cc:1095: Starting in XGBoost 1.3.0, the default evaluation metric used with the objective 'binary:logistic' was changed from 'error' to 'logloss'. Explicitly set eval_metric if you'd like to restore the old behavior.\n",
      "[23:13:41] WARNING: C:/Users/Administrator/workspace/xgboost-win64_release_1.4.0/src/learner.cc:1095: Starting in XGBoost 1.3.0, the default evaluation metric used with the objective 'binary:logistic' was changed from 'error' to 'logloss'. Explicitly set eval_metric if you'd like to restore the old behavior.\n",
      "[23:13:46] WARNING: C:/Users/Administrator/workspace/xgboost-win64_release_1.4.0/src/learner.cc:1095: Starting in XGBoost 1.3.0, the default evaluation metric used with the objective 'binary:logistic' was changed from 'error' to 'logloss'. Explicitly set eval_metric if you'd like to restore the old behavior.\n",
      "[23:13:50] WARNING: C:/Users/Administrator/workspace/xgboost-win64_release_1.4.0/src/learner.cc:1095: Starting in XGBoost 1.3.0, the default evaluation metric used with the objective 'binary:logistic' was changed from 'error' to 'logloss'. Explicitly set eval_metric if you'd like to restore the old behavior.\n",
      "[23:13:55] WARNING: C:/Users/Administrator/workspace/xgboost-win64_release_1.4.0/src/learner.cc:1095: Starting in XGBoost 1.3.0, the default evaluation metric used with the objective 'binary:logistic' was changed from 'error' to 'logloss'. Explicitly set eval_metric if you'd like to restore the old behavior.\n",
      "[23:13:59] WARNING: C:/Users/Administrator/workspace/xgboost-win64_release_1.4.0/src/learner.cc:1095: Starting in XGBoost 1.3.0, the default evaluation metric used with the objective 'binary:logistic' was changed from 'error' to 'logloss'. Explicitly set eval_metric if you'd like to restore the old behavior.\n",
      "[23:14:05] WARNING: C:/Users/Administrator/workspace/xgboost-win64_release_1.4.0/src/learner.cc:1095: Starting in XGBoost 1.3.0, the default evaluation metric used with the objective 'binary:logistic' was changed from 'error' to 'logloss'. Explicitly set eval_metric if you'd like to restore the old behavior.\n",
      "[23:14:10] WARNING: C:/Users/Administrator/workspace/xgboost-win64_release_1.4.0/src/learner.cc:1095: Starting in XGBoost 1.3.0, the default evaluation metric used with the objective 'binary:logistic' was changed from 'error' to 'logloss'. Explicitly set eval_metric if you'd like to restore the old behavior.\n",
      "[23:14:14] WARNING: C:/Users/Administrator/workspace/xgboost-win64_release_1.4.0/src/learner.cc:1095: Starting in XGBoost 1.3.0, the default evaluation metric used with the objective 'binary:logistic' was changed from 'error' to 'logloss'. Explicitly set eval_metric if you'd like to restore the old behavior.\n",
      "[23:14:19] WARNING: C:/Users/Administrator/workspace/xgboost-win64_release_1.4.0/src/learner.cc:1095: Starting in XGBoost 1.3.0, the default evaluation metric used with the objective 'binary:logistic' was changed from 'error' to 'logloss'. Explicitly set eval_metric if you'd like to restore the old behavior.\n",
      "[23:14:23] WARNING: C:/Users/Administrator/workspace/xgboost-win64_release_1.4.0/src/learner.cc:1095: Starting in XGBoost 1.3.0, the default evaluation metric used with the objective 'binary:logistic' was changed from 'error' to 'logloss'. Explicitly set eval_metric if you'd like to restore the old behavior.\n",
      "[23:14:28] WARNING: C:/Users/Administrator/workspace/xgboost-win64_release_1.4.0/src/learner.cc:1095: Starting in XGBoost 1.3.0, the default evaluation metric used with the objective 'binary:logistic' was changed from 'error' to 'logloss'. Explicitly set eval_metric if you'd like to restore the old behavior.\n",
      "[23:14:33] WARNING: C:/Users/Administrator/workspace/xgboost-win64_release_1.4.0/src/learner.cc:1095: Starting in XGBoost 1.3.0, the default evaluation metric used with the objective 'binary:logistic' was changed from 'error' to 'logloss'. Explicitly set eval_metric if you'd like to restore the old behavior.\n",
      "[23:14:38] WARNING: C:/Users/Administrator/workspace/xgboost-win64_release_1.4.0/src/learner.cc:1095: Starting in XGBoost 1.3.0, the default evaluation metric used with the objective 'binary:logistic' was changed from 'error' to 'logloss'. Explicitly set eval_metric if you'd like to restore the old behavior.\n",
      "[23:14:42] WARNING: C:/Users/Administrator/workspace/xgboost-win64_release_1.4.0/src/learner.cc:1095: Starting in XGBoost 1.3.0, the default evaluation metric used with the objective 'binary:logistic' was changed from 'error' to 'logloss'. Explicitly set eval_metric if you'd like to restore the old behavior.\n",
      "[23:14:47] WARNING: C:/Users/Administrator/workspace/xgboost-win64_release_1.4.0/src/learner.cc:1095: Starting in XGBoost 1.3.0, the default evaluation metric used with the objective 'binary:logistic' was changed from 'error' to 'logloss'. Explicitly set eval_metric if you'd like to restore the old behavior.\n",
      "[23:14:51] WARNING: C:/Users/Administrator/workspace/xgboost-win64_release_1.4.0/src/learner.cc:1095: Starting in XGBoost 1.3.0, the default evaluation metric used with the objective 'binary:logistic' was changed from 'error' to 'logloss'. Explicitly set eval_metric if you'd like to restore the old behavior.\n",
      "[23:14:56] WARNING: C:/Users/Administrator/workspace/xgboost-win64_release_1.4.0/src/learner.cc:1095: Starting in XGBoost 1.3.0, the default evaluation metric used with the objective 'binary:logistic' was changed from 'error' to 'logloss'. Explicitly set eval_metric if you'd like to restore the old behavior.\n",
      "[23:15:01] WARNING: C:/Users/Administrator/workspace/xgboost-win64_release_1.4.0/src/learner.cc:1095: Starting in XGBoost 1.3.0, the default evaluation metric used with the objective 'binary:logistic' was changed from 'error' to 'logloss'. Explicitly set eval_metric if you'd like to restore the old behavior.\n",
      "[23:15:06] WARNING: C:/Users/Administrator/workspace/xgboost-win64_release_1.4.0/src/learner.cc:1095: Starting in XGBoost 1.3.0, the default evaluation metric used with the objective 'binary:logistic' was changed from 'error' to 'logloss'. Explicitly set eval_metric if you'd like to restore the old behavior.\n",
      "[23:15:10] WARNING: C:/Users/Administrator/workspace/xgboost-win64_release_1.4.0/src/learner.cc:1095: Starting in XGBoost 1.3.0, the default evaluation metric used with the objective 'binary:logistic' was changed from 'error' to 'logloss'. Explicitly set eval_metric if you'd like to restore the old behavior.\n",
      "[23:15:15] WARNING: C:/Users/Administrator/workspace/xgboost-win64_release_1.4.0/src/learner.cc:1095: Starting in XGBoost 1.3.0, the default evaluation metric used with the objective 'binary:logistic' was changed from 'error' to 'logloss'. Explicitly set eval_metric if you'd like to restore the old behavior.\n",
      "[23:15:19] WARNING: C:/Users/Administrator/workspace/xgboost-win64_release_1.4.0/src/learner.cc:1095: Starting in XGBoost 1.3.0, the default evaluation metric used with the objective 'binary:logistic' was changed from 'error' to 'logloss'. Explicitly set eval_metric if you'd like to restore the old behavior.\n"
     ]
    },
    {
     "name": "stdout",
     "output_type": "stream",
     "text": [
      "[23:15:24] WARNING: C:/Users/Administrator/workspace/xgboost-win64_release_1.4.0/src/learner.cc:1095: Starting in XGBoost 1.3.0, the default evaluation metric used with the objective 'binary:logistic' was changed from 'error' to 'logloss'. Explicitly set eval_metric if you'd like to restore the old behavior.\n",
      "[23:15:28] WARNING: C:/Users/Administrator/workspace/xgboost-win64_release_1.4.0/src/learner.cc:1095: Starting in XGBoost 1.3.0, the default evaluation metric used with the objective 'binary:logistic' was changed from 'error' to 'logloss'. Explicitly set eval_metric if you'd like to restore the old behavior.\n",
      "[23:15:34] WARNING: C:/Users/Administrator/workspace/xgboost-win64_release_1.4.0/src/learner.cc:1095: Starting in XGBoost 1.3.0, the default evaluation metric used with the objective 'binary:logistic' was changed from 'error' to 'logloss'. Explicitly set eval_metric if you'd like to restore the old behavior.\n",
      "[23:15:38] WARNING: C:/Users/Administrator/workspace/xgboost-win64_release_1.4.0/src/learner.cc:1095: Starting in XGBoost 1.3.0, the default evaluation metric used with the objective 'binary:logistic' was changed from 'error' to 'logloss'. Explicitly set eval_metric if you'd like to restore the old behavior.\n",
      "[23:15:43] WARNING: C:/Users/Administrator/workspace/xgboost-win64_release_1.4.0/src/learner.cc:1095: Starting in XGBoost 1.3.0, the default evaluation metric used with the objective 'binary:logistic' was changed from 'error' to 'logloss'. Explicitly set eval_metric if you'd like to restore the old behavior.\n",
      "[23:15:47] WARNING: C:/Users/Administrator/workspace/xgboost-win64_release_1.4.0/src/learner.cc:1095: Starting in XGBoost 1.3.0, the default evaluation metric used with the objective 'binary:logistic' was changed from 'error' to 'logloss'. Explicitly set eval_metric if you'd like to restore the old behavior.\n",
      "[23:15:52] WARNING: C:/Users/Administrator/workspace/xgboost-win64_release_1.4.0/src/learner.cc:1095: Starting in XGBoost 1.3.0, the default evaluation metric used with the objective 'binary:logistic' was changed from 'error' to 'logloss'. Explicitly set eval_metric if you'd like to restore the old behavior.\n",
      "[23:15:56] WARNING: C:/Users/Administrator/workspace/xgboost-win64_release_1.4.0/src/learner.cc:1095: Starting in XGBoost 1.3.0, the default evaluation metric used with the objective 'binary:logistic' was changed from 'error' to 'logloss'. Explicitly set eval_metric if you'd like to restore the old behavior.\n",
      "[23:16:01] WARNING: C:/Users/Administrator/workspace/xgboost-win64_release_1.4.0/src/learner.cc:1095: Starting in XGBoost 1.3.0, the default evaluation metric used with the objective 'binary:logistic' was changed from 'error' to 'logloss'. Explicitly set eval_metric if you'd like to restore the old behavior.\n",
      "[23:16:07] WARNING: C:/Users/Administrator/workspace/xgboost-win64_release_1.4.0/src/learner.cc:1095: Starting in XGBoost 1.3.0, the default evaluation metric used with the objective 'binary:logistic' was changed from 'error' to 'logloss'. Explicitly set eval_metric if you'd like to restore the old behavior.\n",
      "[23:16:11] WARNING: C:/Users/Administrator/workspace/xgboost-win64_release_1.4.0/src/learner.cc:1095: Starting in XGBoost 1.3.0, the default evaluation metric used with the objective 'binary:logistic' was changed from 'error' to 'logloss'. Explicitly set eval_metric if you'd like to restore the old behavior.\n",
      "[23:16:16] WARNING: C:/Users/Administrator/workspace/xgboost-win64_release_1.4.0/src/learner.cc:1095: Starting in XGBoost 1.3.0, the default evaluation metric used with the objective 'binary:logistic' was changed from 'error' to 'logloss'. Explicitly set eval_metric if you'd like to restore the old behavior.\n",
      "[23:16:20] WARNING: C:/Users/Administrator/workspace/xgboost-win64_release_1.4.0/src/learner.cc:1095: Starting in XGBoost 1.3.0, the default evaluation metric used with the objective 'binary:logistic' was changed from 'error' to 'logloss'. Explicitly set eval_metric if you'd like to restore the old behavior.\n",
      "[23:16:25] WARNING: C:/Users/Administrator/workspace/xgboost-win64_release_1.4.0/src/learner.cc:1095: Starting in XGBoost 1.3.0, the default evaluation metric used with the objective 'binary:logistic' was changed from 'error' to 'logloss'. Explicitly set eval_metric if you'd like to restore the old behavior.\n"
     ]
    }
   ],
   "source": [
    "xgb_model_test = XGBClassifier(n_estimators=400, learning_rate=0.1, max_depth=3, objective=\"binary:logistic\", random_state=156)\n",
    "pred_proba\n",
    "num = 150\n",
    "for i in range(num):\n",
    "    xgb_model_test.fit(X_features.sample(9107), y_labels.sample(9107))\n",
    "    pred_proba = xgb_model_test.predict_proba(test_sc)[:,1]\n",
    "    \n",
    "pred_proba_test = pred_proba/num\n",
    "preds_test =1\n",
    "test_submission = pd.DataFrame({\"index\" : test_index,\n",
    "                                \"pred_prob\" : pred_proba_test,\n",
    "                                \"pred\" : preds_test})"
   ]
  },
  {
   "cell_type": "code",
   "execution_count": 15,
   "id": "spanish-department",
   "metadata": {},
   "outputs": [
    {
     "name": "stdout",
     "output_type": "stream",
     "text": [
      "0.0044945132307957995\n"
     ]
    },
    {
     "name": "stderr",
     "output_type": "stream",
     "text": [
      "<ipython-input-15-e63885d77495>:13: SettingWithCopyWarning: \n",
      "A value is trying to be set on a copy of a slice from a DataFrame\n",
      "\n",
      "See the caveats in the documentation: https://pandas.pydata.org/pandas-docs/stable/user_guide/indexing.html#returning-a-view-versus-a-copy\n",
      "  else: test_submission['pred'][i] = 0\n",
      "<ipython-input-15-e63885d77495>:12: SettingWithCopyWarning: \n",
      "A value is trying to be set on a copy of a slice from a DataFrame\n",
      "\n",
      "See the caveats in the documentation: https://pandas.pydata.org/pandas-docs/stable/user_guide/indexing.html#returning-a-view-versus-a-copy\n",
      "  test_submission['pred'][i] = 1\n"
     ]
    },
    {
     "name": "stdout",
     "output_type": "stream",
     "text": [
      "4583\n"
     ]
    }
   ],
   "source": [
    "#평균 값 구한 후 pred 값을 1 or 0으로 설정하는 부분\n",
    "num1 = 0;\n",
    "\n",
    "for i in range(test_submission.shape[0]):\n",
    "        num1 += test_submission['pred_prob'][i]\n",
    "print(num1/test_submission.shape[0])\n",
    "\n",
    "num2 = 0;\n",
    "\n",
    "for i in range(test_submission.shape[0]):\n",
    "    if (test_submission['pred_prob'][i]) > (num1/test_submission.shape[0]):\n",
    "        num2 +=1\n",
    "        test_submission['pred'][i] = 1\n",
    "    else: test_submission['pred'][i] = 0\n",
    "print(num2)"
   ]
  },
  {
   "cell_type": "code",
   "execution_count": 16,
   "id": "incorporated-thread",
   "metadata": {},
   "outputs": [],
   "source": [
    "test_submission.to_csv(\"C:\\\\Users\\kimsj\\\\OneDrive\\\\바탕 화면\\\\대학교\\\\git\\\\AI-project\\\\experiment\\\\test_submission.csv\", index = False)"
   ]
  },
  {
   "cell_type": "code",
   "execution_count": 17,
   "id": "atlantic-invalid",
   "metadata": {},
   "outputs": [
    {
     "data": {
      "text/html": [
       "<div>\n",
       "<style scoped>\n",
       "    .dataframe tbody tr th:only-of-type {\n",
       "        vertical-align: middle;\n",
       "    }\n",
       "\n",
       "    .dataframe tbody tr th {\n",
       "        vertical-align: top;\n",
       "    }\n",
       "\n",
       "    .dataframe thead th {\n",
       "        text-align: right;\n",
       "    }\n",
       "</style>\n",
       "<table border=\"1\" class=\"dataframe\">\n",
       "  <thead>\n",
       "    <tr style=\"text-align: right;\">\n",
       "      <th></th>\n",
       "      <th>index</th>\n",
       "      <th>pred_prob</th>\n",
       "      <th>pred</th>\n",
       "    </tr>\n",
       "  </thead>\n",
       "  <tbody>\n",
       "    <tr>\n",
       "      <th>0</th>\n",
       "      <td>38741</td>\n",
       "      <td>0.004250</td>\n",
       "      <td>0</td>\n",
       "    </tr>\n",
       "    <tr>\n",
       "      <th>1</th>\n",
       "      <td>43904</td>\n",
       "      <td>0.004114</td>\n",
       "      <td>0</td>\n",
       "    </tr>\n",
       "    <tr>\n",
       "      <th>2</th>\n",
       "      <td>41036</td>\n",
       "      <td>0.004449</td>\n",
       "      <td>0</td>\n",
       "    </tr>\n",
       "    <tr>\n",
       "      <th>3</th>\n",
       "      <td>6939</td>\n",
       "      <td>0.004717</td>\n",
       "      <td>1</td>\n",
       "    </tr>\n",
       "    <tr>\n",
       "      <th>4</th>\n",
       "      <td>14682</td>\n",
       "      <td>0.004485</td>\n",
       "      <td>0</td>\n",
       "    </tr>\n",
       "    <tr>\n",
       "      <th>5</th>\n",
       "      <td>35469</td>\n",
       "      <td>0.004502</td>\n",
       "      <td>1</td>\n",
       "    </tr>\n",
       "    <tr>\n",
       "      <th>6</th>\n",
       "      <td>33948</td>\n",
       "      <td>0.004435</td>\n",
       "      <td>0</td>\n",
       "    </tr>\n",
       "    <tr>\n",
       "      <th>7</th>\n",
       "      <td>3082</td>\n",
       "      <td>0.004782</td>\n",
       "      <td>1</td>\n",
       "    </tr>\n",
       "    <tr>\n",
       "      <th>8</th>\n",
       "      <td>33291</td>\n",
       "      <td>0.004450</td>\n",
       "      <td>0</td>\n",
       "    </tr>\n",
       "    <tr>\n",
       "      <th>9</th>\n",
       "      <td>32694</td>\n",
       "      <td>0.004171</td>\n",
       "      <td>0</td>\n",
       "    </tr>\n",
       "  </tbody>\n",
       "</table>\n",
       "</div>"
      ],
      "text/plain": [
       "   index  pred_prob  pred\n",
       "0  38741   0.004250     0\n",
       "1  43904   0.004114     0\n",
       "2  41036   0.004449     0\n",
       "3   6939   0.004717     1\n",
       "4  14682   0.004485     0\n",
       "5  35469   0.004502     1\n",
       "6  33948   0.004435     0\n",
       "7   3082   0.004782     1\n",
       "8  33291   0.004450     0\n",
       "9  32694   0.004171     0"
      ]
     },
     "execution_count": 17,
     "metadata": {},
     "output_type": "execute_result"
    }
   ],
   "source": [
    "# 결과 확인\n",
    "test_result_df = pd.read_csv(\"C:\\\\Users\\kimsj\\\\OneDrive\\\\바탕 화면\\\\대학교\\\\git\\\\AI-project\\\\experiment\\\\test_submission.csv\", encoding=\"utf-8\")\n",
    "test_result_df.head(10)"
   ]
  },
  {
   "cell_type": "markdown",
   "id": "boring-basketball",
   "metadata": {},
   "source": [
    "### feature selection"
   ]
  },
  {
   "cell_type": "code",
   "execution_count": 19,
   "id": "abfd4edc",
   "metadata": {},
   "outputs": [],
   "source": [
    "#feature selection 어느 순간 f(숫자) 값으로 결과가 나왔고, 이 문제를 xgb_mobel의 학습 방법들을 변경하며 같이 값을 확인 했을 떄\n",
    "# f(숫자)가 아니라 정상적으로 나오는 경우도 있었으나 현재의 방법을 사용 중인 상황(변경은 거의 불가능)에서 해결 방법은 찾지 못했음."
   ]
  },
  {
   "cell_type": "code",
   "execution_count": 18,
   "id": "imperial-texture",
   "metadata": {},
   "outputs": [
    {
     "data": {
      "text/plain": [
       "<AxesSubplot:title={'center':'Feature importance'}, xlabel='F score', ylabel='Features'>"
      ]
     },
     "execution_count": 18,
     "metadata": {},
     "output_type": "execute_result"
    },
    {
     "data": {
      "image/png": "[encoded data removed]",
      "text/plain": [
       "<Figure size 720x576 with 1 Axes>"
      ]
     },
     "metadata": {
      "needs_background": "light"
     },
     "output_type": "display_data"
    }
   ],
   "source": [
    "from xgboost import plot_importance\n",
    "fig, ax = plt.subplots(1,1, figsize=(10,8))\n",
    "plot_importance(xgb_model, ax=ax, max_num_features=20, height=0.4)"
   ]
  },
  {
   "cell_type": "code",
   "execution_count": 9,
   "id": "f9b77163",
   "metadata": {},
   "outputs": [],
   "source": [
    "#feature selection으로 높게 나온 컬럼 들을 선별해 학습하고, pred 값을 예측하기 위해 LGBM을 사용했다(XGBoost는 오류가 있었다.)"
   ]
  },
  {
   "cell_type": "code",
   "execution_count": null,
   "id": "published-genius",
   "metadata": {},
   "outputs": [],
   "source": [
    "from lightgbm import LGBMClassifier\n",
    "\n",
    "lgbm = LGBMClassifier(n_estimators=400)\n",
    "evals = [(X_test, y_test)]\n",
    "lgbm.fit(X_train, y_train, early_stopping_rounds=100, eval_metric=\"logloss\", eval_set=evals, verbose=True)\n",
    "lgbm_preds = lgbm.predict(X_test)\n",
    "lgbm_pred_proba = lgbm.predict_proba(X_test)[:,1]\n",
    "\n",
    "\n",
    "get_clf_eval(y_test, lgbm_preds, lgbm_pred_proba)"
   ]
  },
  {
   "cell_type": "code",
   "execution_count": null,
   "id": "d0f378b1",
   "metadata": {},
   "outputs": [],
   "source": [
    "selected = (lgbm.feature_importances_ > 30)\n",
    "index_for_selection =np.array(range(len(selected)))\n",
    "selected_column_index = index_for_selection[selected]\n",
    "\n",
    "X_train_selected = pd.DataFrame(X_train).iloc[:,selected_column_index]\n",
    "x_test_selected = pd.DataFrame(X_test).iloc[:,selected_column_index]"
   ]
  },
  {
   "cell_type": "code",
   "execution_count": null,
   "id": "17efeba6",
   "metadata": {},
   "outputs": [],
   "source": [
    "lgbm = LGBMClassifier(n_estimators=400)\n",
    "evals = [(x_test_selected, y_test)]\n",
    "lgbm.fit(X_train_selected, y_train, early_stopping_rounds=100, eval_metric=\"logloss\", eval_set=evals, verbose=True)\n",
    "lgbm_preds = lgbm.predict(x_test_selected)\n",
    "lgbm_pred_proba = lgbm.predict_proba(x_test_selected)[:,1]\n",
    "\n",
    "\n",
    "get_clf_eval(y_test, lgbm_preds, lgbm_pred_proba)"
   ]
  },
  {
   "cell_type": "code",
   "execution_count": 10,
   "id": "354bf4fd",
   "metadata": {},
   "outputs": [],
   "source": [
    "#예측한 값을 csv 파일을 만들어 예측한 값이 index에 맞게 들어갈 수 있는 코드 작성"
   ]
  },
  {
   "cell_type": "code",
   "execution_count": null,
   "id": "8d287475",
   "metadata": {},
   "outputs": [],
   "source": [
    "import csv\n",
    "f= open(\"test.csv\", 'w', newline='')\n",
    "\n",
    "for i in range(test_df.shape[0]):\n",
    "    wr = csv.writer(f)\n",
    "    wr.writerow([w_preds2[i]])\n",
    "f.close()"
   ]
  },
  {
   "cell_type": "code",
   "execution_count": null,
   "id": "276a26f9",
   "metadata": {},
   "outputs": [],
   "source": [
    "sum = 0\n",
    "sum1 = 0\n",
    "for i in range(test_df.shape[0]):\n",
    "    if w_pred_proba2[i] >= 0.8: sum +=1\n",
    "    else :sum1 += 1\n",
    "print(sum , sum1)"
   ]
  }
 ],
 "metadata": {
  "kernelspec": {
   "display_name": "Python 3",
   "language": "python",
   "name": "python3"
  },
  "language_info": {
   "codemirror_mode": {
    "name": "ipython",
    "version": 3
   },
   "file_extension": ".py",
   "mimetype": "text/x-python",
   "name": "python",
   "nbconvert_exporter": "python",
   "pygments_lexer": "ipython3",
   "version": "3.8.8"
  }
 },
 "nbformat": 4,
 "nbformat_minor": 5
}
