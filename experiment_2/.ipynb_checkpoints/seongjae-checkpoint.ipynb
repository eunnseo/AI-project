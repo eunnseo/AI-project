{
 "cells": [
  {
   "cell_type": "markdown",
   "id": "bearing-creator",
   "metadata": {},
   "source": [
    "# 인공지능적사고와문제해결 프로젝트2 8조"
   ]
  },
  {
   "cell_type": "code",
   "execution_count": 1,
   "id": "breeding-purse",
   "metadata": {},
   "outputs": [],
   "source": [
    "import numpy as np\n",
    "import pandas as pd\n",
    "import matplotlib.pyplot as plt\n",
    "import matplotlib\n",
    "import lightgbm\n",
    "\n",
    "from sklearn.preprocessing import LabelEncoder, OneHotEncoder\n",
    "from sklearn.metrics import confusion_matrix, accuracy_score, precision_score, recall_score, f1_score\n",
    "from sklearn.metrics import roc_auc_score\n",
    "\n",
    "from sklearn.model_selection import train_test_split\n",
    "from xgboost import XGBClassifier\n",
    "from sklearn.preprocessing import StandardScaler\n",
    "from imblearn.over_sampling import RandomOverSampler, SMOTE\n",
    "from imblearn.under_sampling import RandomUnderSampler\n"
   ]
  },
  {
   "cell_type": "code",
   "execution_count": 2,
   "id": "helpful-latvia",
   "metadata": {},
   "outputs": [],
   "source": [
    "# set options\n",
    "pd.set_option('display.max_rows', None)\n",
    "pd.set_option('display.max_columns', None)"
   ]
  },
  {
   "cell_type": "code",
   "execution_count": 3,
   "id": "nearby-employer",
   "metadata": {},
   "outputs": [],
   "source": [
    "# 예측한 값으로 성능을 평가하는 함수\n",
    "def get_clf_eval(y_test, pred=None, pred_proba=None):\n",
    "    confusion = confusion_matrix(y_test, pred) # 오차 행렬\n",
    "    accuracy = accuracy_score(y_test, pred) # 정확도\n",
    "    precision = precision_score(y_test, pred) # 정밀도\n",
    "    recall = recall_score(y_test, pred) # 재현율\n",
    "    f1 = f1_score(y_test, pred) # F1\n",
    "    roc_auc = roc_auc_score(y_test, pred_proba) # ROC-AUC\n",
    "    print('오차 행렬')\n",
    "    print(confusion)\n",
    "    print('정확도: {0:.4f}, 정밀도: {1:.4f}, 재현율: {2:.4f}, F1: {3:.4f}, AUC:{4:.4f}'.format(accuracy, precision, recall, f1, roc_auc))"
   ]
  },
  {
   "cell_type": "markdown",
   "id": "viral-taxation",
   "metadata": {},
   "source": [
    "## 데이터 전처리"
   ]
  },
  {
   "cell_type": "code",
   "execution_count": 4,
   "id": "polyphonic-complex",
   "metadata": {
    "scrolled": true
   },
   "outputs": [
    {
     "name": "stdout",
     "output_type": "stream",
     "text": [
      "dataset shape:  (36425, 78)\n",
      "dataset shape:  (9107, 77)\n"
     ]
    }
   ],
   "source": [
    "vote_df = pd.read_csv(\"C:\\\\Users\\kimsj\\\\OneDrive\\\\바탕 화면\\\\대학교\\\\git\\\\AI-project\\\\data\\\\train.csv\", encoding=\"utf-8\")\n",
    "test_df = pd.read_csv(\"C:\\\\Users\\kimsj\\\\OneDrive\\\\바탕 화면\\\\대학교\\\\git\\\\AI-project\\\\data\\\\test.csv\", encoding=\"utf-8\")\n",
    "print(\"dataset shape: \", vote_df.shape)\n",
    "print(\"dataset shape: \", test_df.shape)\n",
    "\n",
    "# 인덱스 제거\n",
    "vote_df.drop(\"index\", axis=1, inplace=True)\n",
    "test_index = test_df[\"index\"]\n",
    "test_df.drop(\"index\", axis=1, inplace=True)"
   ]
  },
  {
   "cell_type": "code",
   "execution_count": 5,
   "id": "crude-validity",
   "metadata": {},
   "outputs": [],
   "source": [
    "# 0값을 검사할 피처명 리스트 객체 설정\n",
    "# zero_features = ['education', 'engnat', 'hand', 'urban']\n",
    "# education 비율 맞추기?\n",
    "zero_features = []\n",
    "\n",
    "# tp 추가\n",
    "for i in range(1, 11):\n",
    "    s = 'tp' + chr(48+(i//10)) + chr(48+(i%10))\n",
    "    zero_features.append(s)\n",
    "    \n",
    "# zero_features 리스트 내부에 저장된 개별 피처들에 대해 0값을 평균 값으로 대체\n",
    "vote_df[zero_features] = vote_df[zero_features].replace(0, vote_df[zero_features].mean())\n",
    "test_df[zero_features] = test_df[zero_features].replace(0, test_df[zero_features].mean())"
   ]
  },
  {
   "cell_type": "markdown",
   "id": "pressed-drink",
   "metadata": {},
   "source": [
    "### 인코딩"
   ]
  },
  {
   "cell_type": "code",
   "execution_count": 6,
   "id": "unlimited-trade",
   "metadata": {},
   "outputs": [],
   "source": [
    "# 레이블 인코딩\n",
    "encoder = LabelEncoder()\n",
    "encoder_test = LabelEncoder()\n",
    "\n",
    "encoder.fit(vote_df['age_group'])\n",
    "encoder_test.fit(test_df['age_group'])\n",
    "labels = encoder.transform(vote_df['age_group'])\n",
    "labels_test = encoder_test.transform(test_df['age_group'])\n",
    "\n",
    "vote_df['age_group'] = labels\n",
    "test_df['age_group'] = labels_test\n",
    "\n",
    "def get_categoty_age(age_num):\n",
    "    num = age_num;\n",
    "    if age_num == 0: num =7\n",
    "\n",
    "    return num\n",
    "\n",
    "vote_df[\"age_group\"] = vote_df[\"age_group\"].apply(lambda x : get_categoty_age(x))\n",
    "test_df[\"age_group\"] = test_df[\"age_group\"].apply(lambda x : get_categoty_age(x))\n",
    "\n",
    "# 원핫 인코딩\n",
    "def dummy_data(data, columns) :\n",
    "    for column in columns:\n",
    "        data = pd.concat([data, pd.get_dummies(data[column], prefix = column)], axis=1)\n",
    "        data = data.drop(column, axis=1)\n",
    "    return data\n",
    "\n",
    "dummy_columns = ['engnat', 'gender','hand', 'married', 'race', 'religion', 'urban']\n",
    "# wr 추가\n",
    "for i in range(1, 14):\n",
    "    s = 'wr_' + chr(48+(i//10)) + chr(48+(i%10))\n",
    "    dummy_columns.append(s)\n",
    "# wf 추가\n",
    "for i in range(1, 4):\n",
    "    s = 'wf_' + chr(48+(i//10)) + chr(48+(i%10))\n",
    "    dummy_columns.append(s)\n",
    "# print(dummy_columns)\n",
    "\n",
    "vote_df = dummy_data(vote_df, dummy_columns)\n",
    "test_df = dummy_data(test_df, dummy_columns)\n"
   ]
  },
  {
   "cell_type": "markdown",
   "id": "forced-greensboro",
   "metadata": {},
   "source": [
    "### 이상값 처리"
   ]
  },
  {
   "cell_type": "code",
   "execution_count": 7,
   "id": "nonprofit-martin",
   "metadata": {},
   "outputs": [],
   "source": [
    "# 시간 데이터 전처리\n",
    "\n",
    "#Q_E 시간\n",
    "Q_E = []\n",
    "for i in range(97, 117):\n",
    "    a = 'Q' + chr(i) + 'E'\n",
    "    Q_E.append(a)\n",
    "\n",
    "def get_categoty_time(Q_time):\n",
    "    cat = 0\n",
    "    if Q_time <= 1000 : cat = 1\n",
    "    elif Q_time <= 2000 : cat = 2\n",
    "    elif Q_time <= 3000 : cat = 3\n",
    "    elif Q_time <= 4000 : cat = 4\n",
    "    elif Q_time <= 5000 : cat = 5\n",
    "    elif Q_time <= 6000 : cat = 6\n",
    "    elif Q_time <= 7000 : cat = 7\n",
    "    elif Q_time <= 8000 : cat = 8\n",
    "    elif Q_time <= 9000 : cat = 9\n",
    "    elif Q_time <=10000 : cat = 10\n",
    "    elif Q_time <=15000 : cat = 11\n",
    "    elif Q_time <=20000 : cat = 12\n",
    "    else : Q_time = 13\n",
    "\n",
    "    return cat\n",
    "\n",
    "for Q_time in Q_E:\n",
    "    vote_df[Q_time] = vote_df[Q_time].apply(lambda x : get_categoty_time(x))\n",
    "    test_df[Q_time] = test_df[Q_time].apply(lambda x : get_categoty_time(x))\n"
   ]
  },
  {
   "cell_type": "code",
   "execution_count": 8,
   "id": "lesbian-congress",
   "metadata": {},
   "outputs": [],
   "source": [
    "# 이상치 데이터 제거\n",
    "def get_outlier(df=None, column=None, weight=1.5):\n",
    "    fraud = df[df['voted']==1][column]\n",
    "    quantile_25 = np.percentile(fraud.values, 25)\n",
    "    quantile_75 = np.percentile(fraud.values, 75)\n",
    "    \n",
    "    iqr = quantile_75 - quantile_25\n",
    "    iqr_weight = iqr * weight\n",
    "    lowest_val = quantile_25 - iqr_weight\n",
    "    highest_val = quantile_75 + iqr_weight    \n",
    "    outlier_index = fraud[(fraud < lowest_val) | (fraud > highest_val)].index    \n",
    "    return outlier_index\n",
    "\n",
    "# train data: race_White, religion_Agnostic  religion_Atheist  \n",
    "outlier_index = get_outlier(df=vote_df, column=\"race_White\", weight=1.5)\n",
    "vote_df.drop(outlier_index, axis=0, inplace=True)\n",
    "\n",
    "outlier_index = get_outlier(df=vote_df, column=\"religion_Agnostic\", weight=1.5)\n",
    "vote_df.drop(outlier_index, axis=0, inplace=True)\n",
    "\n",
    "outlier_index = get_outlier(df=vote_df, column=\"religion_Atheist\", weight=1.5)\n",
    "vote_df.drop(outlier_index, axis=0, inplace=True)"
   ]
  },
  {
   "cell_type": "markdown",
   "id": "dietary-resistance",
   "metadata": {},
   "source": [
    "## 모델 학습"
   ]
  },
  {
   "cell_type": "code",
   "execution_count": 9,
   "id": "ruled-reach",
   "metadata": {
    "scrolled": true
   },
   "outputs": [
    {
     "name": "stdout",
     "output_type": "stream",
     "text": [
      "학습 세트 Shape:(23740, 121), 테스트 세트 Shape:(5935, 121)\n",
      " 학습 세트 레이블 값 분포 비율\n",
      "0    0.669966\n",
      "1    0.330034\n",
      "Name: voted, dtype: float64\n",
      "\n",
      " 테스트 세트 레이블 값 분포 비율\n",
      "0    0.676158\n",
      "1    0.323842\n",
      "Name: voted, dtype: float64\n",
      "\n"
     ]
    }
   ],
   "source": [
    "# label/feature 분리 및 학습세트/평가세트 분리\n",
    "y_labels = vote_df.loc[:,'voted']\n",
    "X_features = vote_df.drop('voted', axis=1)\n",
    "X_train, X_test, y_train, y_test = train_test_split(X_features, y_labels, test_size=0.2, random_state=156)\n",
    "\n",
    "# 분포 비율 확인\n",
    "train_cnt = y_train.count()\n",
    "test_cnt = y_test.count()\n",
    "\n",
    "print(\"학습 세트 Shape:{0}, 테스트 세트 Shape:{1}\".format(X_train.shape, X_test.shape))\n",
    "print(\" 학습 세트 레이블 값 분포 비율\")\n",
    "print(y_train.value_counts()/train_cnt)\n",
    "print(\"\\n 테스트 세트 레이블 값 분포 비율\")\n",
    "print(y_test.value_counts()/test_cnt)\n",
    "print()\n",
    "\n",
    "# undersampling\n",
    "#under_sampler = RandomUnderSampler(random_state=156)\n",
    "#X_train_under, y_train_under = under_sampler.fit_resample(X_features, y_labels)\n",
    "\n",
    "# # smote oversampling\n",
    "smote = SMOTE(random_state=156)\n",
    "X_train_over, y_train_over = smote.fit_resample(X_features, y_labels)\n"
   ]
  },
  {
   "cell_type": "code",
   "execution_count": 10,
   "id": "4a887ac9",
   "metadata": {},
   "outputs": [
    {
     "data": {
      "text/plain": [
       "(29675, 121)"
      ]
     },
     "execution_count": 10,
     "metadata": {},
     "output_type": "execute_result"
    }
   ],
   "source": [
    "X_features.shape"
   ]
  },
  {
   "cell_type": "code",
   "execution_count": 11,
   "id": "1c78b9af",
   "metadata": {},
   "outputs": [
    {
     "data": {
      "text/plain": [
       "\"from sklearn.model_selection import KFold\\nfrom sklearn.metrics import mean_absolute_error\\n\\ndef get_stacking_base_datasets (model, X_train_n, y_train_n, X_test_n, n_folds):\\n    kf = KFold(n_splits=n_folds, shuffle=True, random_state=156)\\n    train_fold_pred = np.zeros((X_train_n.shape[0],1))\\n    test_pred = np.zeros((X_test.shape[0],n_folds))\\n    print(model.__class__.__name__, 'model 시작 ')\\n    \\n    for folder_counts, (train_index, valid_ondex) in enumerate(kf.split(X_train_n)):\\n        print('\\t 폴드 시작: ', folder_counts, '시작')\\n        X_tr = X_train_n[train_index]\\n        y_tr = y_train_n[train_index]\\n        X_te = X_train_n[valid_ondex]\\n        \\n        model.fit(X_tr, y_tr)\\n        train_fold_pred[valid_ondex,:] = model.predict(X_te).reshape(-1,1)\\n        test_pred[:,folder_counts] = model.predict(X_test_n)\\n        \\n    test_pred_mean = np.mean(test_pred, axis=1).reshape(-1,1)\\n    \\n    return train_fold_pred, test_pred_mean\""
      ]
     },
     "execution_count": 11,
     "metadata": {},
     "output_type": "execute_result"
    }
   ],
   "source": [
    "from sklearn.model_selection import KFold\n",
    "from sklearn.metrics import mean_absolute_error\n",
    "\n",
    "def get_stacking_base_datasets (model, X_train_n, y_train_n, X_test_n, n_folds):\n",
    "    kf = KFold(n_splits=n_folds, shuffle=True, random_state=156)\n",
    "    train_fold_pred = np.zeros((X_train_n.shape[0],1))\n",
    "    test_pred = np.zeros((X_test.shape[0],n_folds))\n",
    "    print(model.__class__.__name__, 'model 시작 ')\n",
    "    \n",
    "    for folder_counts, (train_index, valid_index) in enumerate(kf.split(X_train_n)):\n",
    "        print('\\t 폴드 시작: ', folder_counts, '시작')\n",
    "        X_tr = X_train_n[train_index]\n",
    "        y_tr = y_train_n[train_index]\n",
    "        X_te = X_train_n[valid_index]\n",
    "        \n",
    "        model.fit(X_tr, y_tr)\n",
    "        train_fold_pred[valid_ondex,:] = model.predict(X_te).reshape(-1,1)\n",
    "        test_pred[:,folder_counts] = model.predict(X_test_n)\n",
    "        \n",
    "    test_pred_mean = np.mean(test_pred, axis=1).reshape(-1,1)\n",
    "    \n",
    "    return train_fold_pred, test_pred_mean"
   ]
  },
  {
   "cell_type": "code",
   "execution_count": 12,
   "id": "f835c3ab",
   "metadata": {
    "scrolled": true
   },
   "outputs": [],
   "source": [
    "#get_stacking_base_datasets(xgb_model, X_train_over, y_train_over,test_df, 5)"
   ]
  },
  {
   "cell_type": "code",
   "execution_count": 13,
   "id": "53d709d9",
   "metadata": {},
   "outputs": [
    {
     "data": {
      "text/plain": [
       "29675"
      ]
     },
     "execution_count": 13,
     "metadata": {},
     "output_type": "execute_result"
    }
   ],
   "source": [
    "X_features.shape[0]"
   ]
  },
  {
   "cell_type": "markdown",
   "id": "adjustable-table",
   "metadata": {},
   "source": [
    "### 테스트 데이터 예측"
   ]
  },
  {
   "cell_type": "code",
   "execution_count": 19,
   "id": "induced-creek",
   "metadata": {},
   "outputs": [
    {
     "ename": "AttributeError",
     "evalue": "'numpy.ndarray' object has no attribute 'sample'",
     "output_type": "error",
     "traceback": [
      "\u001b[1;31m---------------------------------------------------------------------------\u001b[0m",
      "\u001b[1;31mAttributeError\u001b[0m                            Traceback (most recent call last)",
      "\u001b[1;32m<ipython-input-19-ea8e51c0511e>\u001b[0m in \u001b[0;36m<module>\u001b[1;34m\u001b[0m\n\u001b[0;32m      1\u001b[0m \u001b[0mxgb_model_test\u001b[0m \u001b[1;33m=\u001b[0m \u001b[0mXGBClassifier\u001b[0m\u001b[1;33m(\u001b[0m\u001b[0mn_estimators\u001b[0m\u001b[1;33m=\u001b[0m\u001b[1;36m400\u001b[0m\u001b[1;33m,\u001b[0m \u001b[0mlearning_rate\u001b[0m\u001b[1;33m=\u001b[0m\u001b[1;36m0.1\u001b[0m\u001b[1;33m,\u001b[0m \u001b[0mmax_depth\u001b[0m\u001b[1;33m=\u001b[0m\u001b[1;36m3\u001b[0m\u001b[1;33m,\u001b[0m \u001b[0mobjective\u001b[0m\u001b[1;33m=\u001b[0m\u001b[1;34m\"binary:logistic\"\u001b[0m\u001b[1;33m,\u001b[0m \u001b[0mrandom_state\u001b[0m\u001b[1;33m=\u001b[0m\u001b[1;36m156\u001b[0m\u001b[1;33m)\u001b[0m\u001b[1;33m\u001b[0m\u001b[1;33m\u001b[0m\u001b[0m\n\u001b[0;32m      2\u001b[0m \u001b[1;32mfor\u001b[0m \u001b[0mi\u001b[0m \u001b[1;32min\u001b[0m \u001b[0mrange\u001b[0m\u001b[1;33m(\u001b[0m\u001b[1;36m1\u001b[0m\u001b[1;33m)\u001b[0m\u001b[1;33m:\u001b[0m\u001b[1;33m\u001b[0m\u001b[1;33m\u001b[0m\u001b[0m\n\u001b[1;32m----> 3\u001b[1;33m     \u001b[0mxgb_model_test\u001b[0m\u001b[1;33m.\u001b[0m\u001b[0mfit\u001b[0m\u001b[1;33m(\u001b[0m\u001b[0mX_features\u001b[0m\u001b[1;33m.\u001b[0m\u001b[0msample\u001b[0m\u001b[1;33m(\u001b[0m\u001b[0mtest_df\u001b[0m\u001b[1;33m.\u001b[0m\u001b[0mshape\u001b[0m\u001b[1;33m[\u001b[0m\u001b[1;36m0\u001b[0m\u001b[1;33m]\u001b[0m\u001b[1;33m)\u001b[0m\u001b[1;33m,\u001b[0m \u001b[0my_labels\u001b[0m\u001b[1;33m.\u001b[0m\u001b[0msample\u001b[0m\u001b[1;33m(\u001b[0m\u001b[0mtest_df\u001b[0m\u001b[1;33m.\u001b[0m\u001b[0mshape\u001b[0m\u001b[1;33m[\u001b[0m\u001b[1;36m0\u001b[0m\u001b[1;33m]\u001b[0m\u001b[1;33m)\u001b[0m\u001b[1;33m,\u001b[0m \u001b[0meval_metric\u001b[0m\u001b[1;33m=\u001b[0m\u001b[1;34m\"logloss\"\u001b[0m\u001b[1;33m)\u001b[0m\u001b[1;33m\u001b[0m\u001b[1;33m\u001b[0m\u001b[0m\n\u001b[0m\u001b[0;32m      4\u001b[0m \u001b[1;31m# 데이터 정규화(스케일링)\u001b[0m\u001b[1;33m\u001b[0m\u001b[1;33m\u001b[0m\u001b[1;33m\u001b[0m\u001b[0m\n\u001b[0;32m      5\u001b[0m \u001b[0mscaler\u001b[0m \u001b[1;33m=\u001b[0m \u001b[0mStandardScaler\u001b[0m\u001b[1;33m(\u001b[0m\u001b[1;33m)\u001b[0m\u001b[1;33m\u001b[0m\u001b[1;33m\u001b[0m\u001b[0m\n",
      "\u001b[1;31mAttributeError\u001b[0m: 'numpy.ndarray' object has no attribute 'sample'"
     ]
    }
   ],
   "source": [
    "xgb_model_test = XGBClassifier(n_estimators=400, learning_rate=0.1, max_depth=3, objective=\"binary:logistic\", random_state=156)\n",
    "for i in range(1):\n",
    "    xgb_model_test.fit(X_features.sample(test_df.shape[0]), y_labels.sample(test_df.shape[0]), eval_metric=\"logloss\")\n",
    "# 데이터 정규화(스케일링)\n",
    "scaler = StandardScaler()\n",
    "X_features = scaler.fit_transform(X_features)\n",
    "\n",
    "test_sc = scaler.transform(test_df) # test data scaling\n",
    "\n",
    "# preds_test = xgb_model.predict(test_df)\n",
    "# pred_proba_test = xgb_model.predict_proba(test_df)[:,1]\n",
    "preds_test = xgb_model_test.predict(test_sc)\n",
    "pred_proba_test = xgb_model_test.predict_proba(test_sc)[:,1]\n",
    "\n",
    "test_submission = pd.DataFrame({\"index\" : test_index,\n",
    "                                \"pred_prob\" : pred_proba_test,\n",
    "                                \"pred\" : preds_test})"
   ]
  },
  {
   "cell_type": "code",
   "execution_count": 15,
   "id": "spanish-department",
   "metadata": {},
   "outputs": [
    {
     "data": {
      "text/html": [
       "<div>\n",
       "<style scoped>\n",
       "    .dataframe tbody tr th:only-of-type {\n",
       "        vertical-align: middle;\n",
       "    }\n",
       "\n",
       "    .dataframe tbody tr th {\n",
       "        vertical-align: top;\n",
       "    }\n",
       "\n",
       "    .dataframe thead th {\n",
       "        text-align: right;\n",
       "    }\n",
       "</style>\n",
       "<table border=\"1\" class=\"dataframe\">\n",
       "  <thead>\n",
       "    <tr style=\"text-align: right;\">\n",
       "      <th></th>\n",
       "      <th>index</th>\n",
       "      <th>pred_prob</th>\n",
       "      <th>pred</th>\n",
       "    </tr>\n",
       "  </thead>\n",
       "  <tbody>\n",
       "    <tr>\n",
       "      <th>0</th>\n",
       "      <td>38741</td>\n",
       "      <td>0.190326</td>\n",
       "      <td>0</td>\n",
       "    </tr>\n",
       "    <tr>\n",
       "      <th>1</th>\n",
       "      <td>43904</td>\n",
       "      <td>0.086457</td>\n",
       "      <td>0</td>\n",
       "    </tr>\n",
       "    <tr>\n",
       "      <th>2</th>\n",
       "      <td>41036</td>\n",
       "      <td>0.022491</td>\n",
       "      <td>0</td>\n",
       "    </tr>\n",
       "    <tr>\n",
       "      <th>3</th>\n",
       "      <td>6939</td>\n",
       "      <td>0.041524</td>\n",
       "      <td>0</td>\n",
       "    </tr>\n",
       "    <tr>\n",
       "      <th>4</th>\n",
       "      <td>14682</td>\n",
       "      <td>0.053469</td>\n",
       "      <td>0</td>\n",
       "    </tr>\n",
       "    <tr>\n",
       "      <th>5</th>\n",
       "      <td>35469</td>\n",
       "      <td>0.075466</td>\n",
       "      <td>0</td>\n",
       "    </tr>\n",
       "    <tr>\n",
       "      <th>6</th>\n",
       "      <td>33948</td>\n",
       "      <td>0.093165</td>\n",
       "      <td>0</td>\n",
       "    </tr>\n",
       "    <tr>\n",
       "      <th>7</th>\n",
       "      <td>3082</td>\n",
       "      <td>0.025585</td>\n",
       "      <td>0</td>\n",
       "    </tr>\n",
       "    <tr>\n",
       "      <th>8</th>\n",
       "      <td>33291</td>\n",
       "      <td>0.031958</td>\n",
       "      <td>0</td>\n",
       "    </tr>\n",
       "    <tr>\n",
       "      <th>9</th>\n",
       "      <td>32694</td>\n",
       "      <td>0.114155</td>\n",
       "      <td>0</td>\n",
       "    </tr>\n",
       "  </tbody>\n",
       "</table>\n",
       "</div>"
      ],
      "text/plain": [
       "   index  pred_prob  pred\n",
       "0  38741   0.190326     0\n",
       "1  43904   0.086457     0\n",
       "2  41036   0.022491     0\n",
       "3   6939   0.041524     0\n",
       "4  14682   0.053469     0\n",
       "5  35469   0.075466     0\n",
       "6  33948   0.093165     0\n",
       "7   3082   0.025585     0\n",
       "8  33291   0.031958     0\n",
       "9  32694   0.114155     0"
      ]
     },
     "execution_count": 15,
     "metadata": {},
     "output_type": "execute_result"
    }
   ],
   "source": [
    "test_submission.head(10)"
   ]
  },
  {
   "cell_type": "markdown",
   "id": "boring-basketball",
   "metadata": {},
   "source": [
    "### feature selection"
   ]
  },
  {
   "cell_type": "code",
   "execution_count": 17,
   "id": "imperial-texture",
   "metadata": {},
   "outputs": [
    {
     "data": {
      "text/plain": [
       "<AxesSubplot:title={'center':'Feature importance'}, xlabel='F score', ylabel='Features'>"
      ]
     },
     "execution_count": 17,
     "metadata": {},
     "output_type": "execute_result"
    },
    {
     "data": {
      "image/png": "[encoded data removed]",
      "text/plain": [
       "<Figure size 720x576 with 1 Axes>"
      ]
     },
     "metadata": {
      "needs_background": "light"
     },
     "output_type": "display_data"
    }
   ],
   "source": [
    "from xgboost import plot_importance\n",
    "fig, ax = plt.subplots(1,1, figsize=(10,8))\n",
    "plot_importance(xgb_model_test, ax=ax, max_num_features=20, height=0.4)"
   ]
  },
  {
   "cell_type": "code",
   "execution_count": null,
   "id": "published-genius",
   "metadata": {},
   "outputs": [],
   "source": []
  }
 ],
 "metadata": {
  "kernelspec": {
   "display_name": "Python 3",
   "language": "python",
   "name": "python3"
  },
  "language_info": {
   "codemirror_mode": {
    "name": "ipython",
    "version": 3
   },
   "file_extension": ".py",
   "mimetype": "text/x-python",
   "name": "python",
   "nbconvert_exporter": "python",
   "pygments_lexer": "ipython3",
   "version": "3.8.8"
  }
 },
 "nbformat": 4,
 "nbformat_minor": 5
}
